{
  "nbformat": 4,
  "nbformat_minor": 0,
  "metadata": {
    "colab": {
      "provenance": [],
      "collapsed_sections": [
        "vncDsAP0Gaoa",
        "FJNUwmbgGyua",
        "w6K7xa23Elo4",
        "yQaldy8SH6Dl",
        "PH-0ReGfmX4f",
        "mDgbUHAGgjLW",
        "HhfV-JJviCcP",
        "Y3lxredqlCYt",
        "3RnN4peoiCZX",
        "x71ZqKXriCWQ",
        "7hBIi_osiCS2",
        "JlHwYmJAmNHm",
        "35m5QtbWiB9F",
        "PoPl-ycgm1ru",
        "H0kj-8xxnORC",
        "nA9Y7ga8ng1Z",
        "PBTbrJXOngz2",
        "u3PMJOP6ngxN",
        "MSa1f5Uengrz",
        "K5QZ13OEpz2H",
        "lQ7QKXXCp7Bj",
        "448CDAPjqfQr",
        "t6dVpIINYklI",
        "ijmpgYnKYklI",
        "-JiQyfWJYklI",
        "fge-S5ZAYoAp",
        "85gYPyotYoAp",
        "RoGjAbkUYoAp",
        "iky9q4vBYrdO",
        "F6T5p64dYrdO",
        "y-Ehk30pYrdP",
        "QHF8YVU7Yuh3",
        "GwzvFGzlYuh3",
        "qYpmQ266Yuh3",
        "bbFf2-_FphqN",
        "_ouA3fa0phqN",
        "Seke61FWphqN",
        "t27r6nlMphqO",
        "r2jJGEOYphqO",
        "b0JNsNcRphqO",
        "BZR9WyysphqO",
        "jj7wYXLtphqO",
        "eZrbJ2SmphqO",
        "rFu4xreNphqO",
        "YJ55k-q6phqO",
        "gCFgpxoyphqP",
        "OVtJsKN_phqQ",
        "lssrdh5qphqQ",
        "U2RJ9gkRphqQ",
        "1M8mcRywphqQ",
        "tgIPom80phqQ",
        "JMzcOPDDphqR",
        "x-EpHcCOp1ci",
        "X_VqEhTip1ck",
        "8zGJKyg5p1ck",
        "PVzmfK_Ep1ck",
        "n3dbpmDWp1ck",
        "ylSl6qgtp1ck",
        "ZWILFDl5p1ck",
        "M7G43BXep1ck",
        "Ag9LCva-p1cl",
        "E6MkPsBcp1cl",
        "2cELzS2fp1cl",
        "3MPXvC8up1cl",
        "NC_X3p0fY2L0",
        "UV0SzAkaZNRQ",
        "YPEH6qLeZNRQ",
        "q29F0dvdveiT",
        "EXh0U9oCveiU",
        "22aHeOlLveiV",
        "JcMwzZxoAimU",
        "8G2x9gOozGDZ",
        "gCX9965dhzqZ",
        "gIfDvo9L0UH2"
      ],
      "include_colab_link": true
    },
    "kernelspec": {
      "name": "python3",
      "display_name": "Python 3"
    },
    "language_info": {
      "name": "python"
    }
  },
  "cells": [
    {
      "cell_type": "markdown",
      "metadata": {
        "id": "view-in-github",
        "colab_type": "text"
      },
      "source": [
        "<a href=\"https://colab.research.google.com/github/varshil009/Data-Visualization/blob/main/global_terrorism_EDA.ipynb\" target=\"_parent\"><img src=\"https://colab.research.google.com/assets/colab-badge.svg\" alt=\"Open In Colab\"/></a>"
      ]
    },
    {
      "cell_type": "markdown",
      "source": [
        "# **Project Name**    - GLOBAL TERRORISM DATASET VISUALISATION\n",
        "\n"
      ],
      "metadata": {
        "id": "vncDsAP0Gaoa"
      }
    },
    {
      "cell_type": "markdown",
      "source": [
        "##### **Project Type**    - EDA\n",
        "##### **Contribution**    - Individual\n"
      ],
      "metadata": {
        "id": "beRrZCGUAJYm"
      }
    },
    {
      "cell_type": "markdown",
      "source": [
        "# **Project Summary -**"
      ],
      "metadata": {
        "id": "FJNUwmbgGyua"
      }
    },
    {
      "cell_type": "markdown",
      "source": [
        "The terrorism dataset is used to visualalize the terrorist attacks happened in whole world from year 1970. In this project I will apply all my python knowledge for data wrangling & visualization. From visualisation insights will be generated."
      ],
      "metadata": {
        "id": "F6v_1wHtG2nS"
      }
    },
    {
      "cell_type": "markdown",
      "source": [
        "# **GitHub Link -**"
      ],
      "metadata": {
        "id": "w6K7xa23Elo4"
      }
    },
    {
      "cell_type": "markdown",
      "source": [
        "Provide your GitHub Link here."
      ],
      "metadata": {
        "id": "h1o69JH3Eqqn"
      }
    },
    {
      "cell_type": "markdown",
      "source": [
        "# **Problem Statement**\n"
      ],
      "metadata": {
        "id": "yQaldy8SH6Dl"
      }
    },
    {
      "cell_type": "markdown",
      "source": [
        "**The problem revolves around analyzing and understanding the patterns and trends of global terrorism using a dataset containing relevant information about terrorist incidents worldwide. The objective is to extract valuable insights from the data, identify significant factors contributing to terrorism**"
      ],
      "metadata": {
        "id": "DpeJGUA3kjGy"
      }
    },
    {
      "cell_type": "markdown",
      "source": [
        "#### **Define Your Business Objective?**"
      ],
      "metadata": {
        "id": "PH-0ReGfmX4f"
      }
    },
    {
      "cell_type": "markdown",
      "source": [
        "**None. Terrorism data doesnt give any business objective but it can extract reasons for it. & from that we can find solutions for global peace.**"
      ],
      "metadata": {
        "id": "PhDvGCAqmjP1"
      }
    },
    {
      "cell_type": "markdown",
      "source": [
        "# **General Guidelines** : -  "
      ],
      "metadata": {
        "id": "mDgbUHAGgjLW"
      }
    },
    {
      "cell_type": "markdown",
      "source": [
        "1.   Well-structured, formatted, and commented code is required.\n",
        "2.   Exception Handling, Production Grade Code & Deployment Ready Code will be a plus. Those students will be awarded some additional credits.\n",
        "     \n",
        "     The additional credits will have advantages over other students during Star Student selection.\n",
        "       \n",
        "             [ Note: - Deployment Ready Code is defined as, the whole .ipynb notebook should be executable in one go\n",
        "                       without a single error logged. ]\n",
        "\n",
        "3.   Each and every logic should have proper comments.\n",
        "4. You may add as many number of charts you want. Make Sure for each and every chart the following format should be answered.\n",
        "        \n",
        "\n",
        "```\n",
        "# Chart visualization code\n",
        "```\n",
        "            \n",
        "\n",
        "*   Why did you pick the specific chart?\n",
        "*   What is/are the insight(s) found from the chart?\n",
        "* Will the gained insights help creating a positive business impact?\n",
        "Are there any insights that lead to negative growth? Justify with specific reason.\n",
        "\n",
        "5. You have to create at least 20 logical & meaningful charts having important insights.\n",
        "\n",
        "\n",
        "[ Hints : - Do the Vizualization in  a structured way while following \"UBM\" Rule.\n",
        "\n",
        "U - Univariate Analysis,\n",
        "\n",
        "B - Bivariate Analysis (Numerical - Categorical, Numerical - Numerical, Categorical - Categorical)\n",
        "\n",
        "M - Multivariate Analysis\n",
        " ]\n",
        "\n",
        "\n",
        "\n"
      ],
      "metadata": {
        "id": "ZrxVaUj-hHfC"
      }
    },
    {
      "cell_type": "markdown",
      "source": [
        "# ***Let's Begin !***"
      ],
      "metadata": {
        "id": "O_i_v8NEhb9l"
      }
    },
    {
      "cell_type": "markdown",
      "source": [
        "## ***1. Know Your Data***"
      ],
      "metadata": {
        "id": "HhfV-JJviCcP"
      }
    },
    {
      "cell_type": "markdown",
      "source": [
        "### Import Libraries"
      ],
      "metadata": {
        "id": "Y3lxredqlCYt"
      }
    },
    {
      "cell_type": "code",
      "source": [
        "# Import Libraries\n",
        "import pandas as pd\n",
        "import numpy as np\n",
        "import seaborn as sns\n",
        "import matplotlib.pyplot as plt"
      ],
      "metadata": {
        "id": "M8Vqi-pPk-HR"
      },
      "execution_count": null,
      "outputs": []
    },
    {
      "cell_type": "markdown",
      "source": [
        "### Dataset Loading"
      ],
      "metadata": {
        "id": "3RnN4peoiCZX"
      }
    },
    {
      "cell_type": "code",
      "source": [
        "# Load Dataset\n",
        "from google.colab import drive\n",
        "drive.mount('/content/drive')\n",
        "data = pd.read_csv('/content/drive/MyDrive/Global Terrorism Data Sampled.csv')\n",
        "df = data.copy()"
      ],
      "metadata": {
        "id": "4CkvbW_SlZ_R",
        "colab": {
          "base_uri": "https://localhost:8080/"
        },
        "outputId": "94311abc-a788-4cad-dd58-cdcd76d0cb79"
      },
      "execution_count": null,
      "outputs": [
        {
          "output_type": "stream",
          "name": "stdout",
          "text": [
            "Mounted at /content/drive\n"
          ]
        }
      ]
    },
    {
      "cell_type": "markdown",
      "source": [
        "### Dataset First View"
      ],
      "metadata": {
        "id": "x71ZqKXriCWQ"
      }
    },
    {
      "cell_type": "code",
      "source": [
        "# Dataset First Look\n",
        "df.head()"
      ],
      "metadata": {
        "id": "LWNFOSvLl09H",
        "colab": {
          "base_uri": "https://localhost:8080/"
        },
        "outputId": "9cf26994-ecc4-4492-d5fb-29caecebd7cb"
      },
      "execution_count": null,
      "outputs": [
        {
          "output_type": "execute_result",
          "data": {
            "text/plain": [
              "   Unnamed: 0  iyear  imonth  iday  extended     resolution  \\\n",
              "0           0   1970       7     2         0  no resolution   \n",
              "1           1   1970       0     0         0  no resolution   \n",
              "2           2   1970       1     0         0  no resolution   \n",
              "3           3   1970       1     0         0  no resolution   \n",
              "4           4   1970       1     0         0  no resolution   \n",
              "\n",
              "          country_txt                   region_txt provstate   latitude  ...  \\\n",
              "0  Dominican Republic  Central America & Caribbean       NaN  18.456792  ...   \n",
              "1              Mexico                North America   Federal  19.371887  ...   \n",
              "2         Philippines               Southeast Asia    Tarlac  15.478598  ...   \n",
              "3              Greece               Western Europe    Attica  37.997490  ...   \n",
              "4               Japan                    East Asia   Fukouka  33.580412  ...   \n",
              "\n",
              "   multiple                 attacktype1_txt  weaptype1_txt  success  \\\n",
              "0       0.0                   Assassination        Unknown        1   \n",
              "1       0.0     Hostage Taking (Kidnapping)        Unknown        1   \n",
              "2       0.0                   Assassination        Unknown        1   \n",
              "3       0.0               Bombing/Explosion     Explosives        1   \n",
              "4       0.0  Facility/Infrastructure Attack     Incendiary        1   \n",
              "\n",
              "                 targtype1_txt         natlty1_txt  \\\n",
              "0  Private Citizens & Property  Dominican Republic   \n",
              "1      Government (Diplomatic)             Belgium   \n",
              "2          Journalists & Media       United States   \n",
              "3      Government (Diplomatic)       United States   \n",
              "4      Government (Diplomatic)       United States   \n",
              "\n",
              "                                gname nkill  ransomamt nreleased  \n",
              "0                              MANO-D   1.0        NaN       NaN  \n",
              "1  23rd of September Communist League   0.0   800000.0       NaN  \n",
              "2                             Unknown   1.0        NaN       NaN  \n",
              "3                             Unknown   NaN        NaN       NaN  \n",
              "4                             Unknown   NaN        NaN       NaN  \n",
              "\n",
              "[5 rows x 25 columns]"
            ],
            "text/html": [
              "\n",
              "\n",
              "  <div id=\"df-a0aed958-f1c9-46ca-a634-54506c0430a2\">\n",
              "    <div class=\"colab-df-container\">\n",
              "      <div>\n",
              "<style scoped>\n",
              "    .dataframe tbody tr th:only-of-type {\n",
              "        vertical-align: middle;\n",
              "    }\n",
              "\n",
              "    .dataframe tbody tr th {\n",
              "        vertical-align: top;\n",
              "    }\n",
              "\n",
              "    .dataframe thead th {\n",
              "        text-align: right;\n",
              "    }\n",
              "</style>\n",
              "<table border=\"1\" class=\"dataframe\">\n",
              "  <thead>\n",
              "    <tr style=\"text-align: right;\">\n",
              "      <th></th>\n",
              "      <th>Unnamed: 0</th>\n",
              "      <th>iyear</th>\n",
              "      <th>imonth</th>\n",
              "      <th>iday</th>\n",
              "      <th>extended</th>\n",
              "      <th>resolution</th>\n",
              "      <th>country_txt</th>\n",
              "      <th>region_txt</th>\n",
              "      <th>provstate</th>\n",
              "      <th>latitude</th>\n",
              "      <th>...</th>\n",
              "      <th>multiple</th>\n",
              "      <th>attacktype1_txt</th>\n",
              "      <th>weaptype1_txt</th>\n",
              "      <th>success</th>\n",
              "      <th>targtype1_txt</th>\n",
              "      <th>natlty1_txt</th>\n",
              "      <th>gname</th>\n",
              "      <th>nkill</th>\n",
              "      <th>ransomamt</th>\n",
              "      <th>nreleased</th>\n",
              "    </tr>\n",
              "  </thead>\n",
              "  <tbody>\n",
              "    <tr>\n",
              "      <th>0</th>\n",
              "      <td>0</td>\n",
              "      <td>1970</td>\n",
              "      <td>7</td>\n",
              "      <td>2</td>\n",
              "      <td>0</td>\n",
              "      <td>no resolution</td>\n",
              "      <td>Dominican Republic</td>\n",
              "      <td>Central America &amp; Caribbean</td>\n",
              "      <td>NaN</td>\n",
              "      <td>18.456792</td>\n",
              "      <td>...</td>\n",
              "      <td>0.0</td>\n",
              "      <td>Assassination</td>\n",
              "      <td>Unknown</td>\n",
              "      <td>1</td>\n",
              "      <td>Private Citizens &amp; Property</td>\n",
              "      <td>Dominican Republic</td>\n",
              "      <td>MANO-D</td>\n",
              "      <td>1.0</td>\n",
              "      <td>NaN</td>\n",
              "      <td>NaN</td>\n",
              "    </tr>\n",
              "    <tr>\n",
              "      <th>1</th>\n",
              "      <td>1</td>\n",
              "      <td>1970</td>\n",
              "      <td>0</td>\n",
              "      <td>0</td>\n",
              "      <td>0</td>\n",
              "      <td>no resolution</td>\n",
              "      <td>Mexico</td>\n",
              "      <td>North America</td>\n",
              "      <td>Federal</td>\n",
              "      <td>19.371887</td>\n",
              "      <td>...</td>\n",
              "      <td>0.0</td>\n",
              "      <td>Hostage Taking (Kidnapping)</td>\n",
              "      <td>Unknown</td>\n",
              "      <td>1</td>\n",
              "      <td>Government (Diplomatic)</td>\n",
              "      <td>Belgium</td>\n",
              "      <td>23rd of September Communist League</td>\n",
              "      <td>0.0</td>\n",
              "      <td>800000.0</td>\n",
              "      <td>NaN</td>\n",
              "    </tr>\n",
              "    <tr>\n",
              "      <th>2</th>\n",
              "      <td>2</td>\n",
              "      <td>1970</td>\n",
              "      <td>1</td>\n",
              "      <td>0</td>\n",
              "      <td>0</td>\n",
              "      <td>no resolution</td>\n",
              "      <td>Philippines</td>\n",
              "      <td>Southeast Asia</td>\n",
              "      <td>Tarlac</td>\n",
              "      <td>15.478598</td>\n",
              "      <td>...</td>\n",
              "      <td>0.0</td>\n",
              "      <td>Assassination</td>\n",
              "      <td>Unknown</td>\n",
              "      <td>1</td>\n",
              "      <td>Journalists &amp; Media</td>\n",
              "      <td>United States</td>\n",
              "      <td>Unknown</td>\n",
              "      <td>1.0</td>\n",
              "      <td>NaN</td>\n",
              "      <td>NaN</td>\n",
              "    </tr>\n",
              "    <tr>\n",
              "      <th>3</th>\n",
              "      <td>3</td>\n",
              "      <td>1970</td>\n",
              "      <td>1</td>\n",
              "      <td>0</td>\n",
              "      <td>0</td>\n",
              "      <td>no resolution</td>\n",
              "      <td>Greece</td>\n",
              "      <td>Western Europe</td>\n",
              "      <td>Attica</td>\n",
              "      <td>37.997490</td>\n",
              "      <td>...</td>\n",
              "      <td>0.0</td>\n",
              "      <td>Bombing/Explosion</td>\n",
              "      <td>Explosives</td>\n",
              "      <td>1</td>\n",
              "      <td>Government (Diplomatic)</td>\n",
              "      <td>United States</td>\n",
              "      <td>Unknown</td>\n",
              "      <td>NaN</td>\n",
              "      <td>NaN</td>\n",
              "      <td>NaN</td>\n",
              "    </tr>\n",
              "    <tr>\n",
              "      <th>4</th>\n",
              "      <td>4</td>\n",
              "      <td>1970</td>\n",
              "      <td>1</td>\n",
              "      <td>0</td>\n",
              "      <td>0</td>\n",
              "      <td>no resolution</td>\n",
              "      <td>Japan</td>\n",
              "      <td>East Asia</td>\n",
              "      <td>Fukouka</td>\n",
              "      <td>33.580412</td>\n",
              "      <td>...</td>\n",
              "      <td>0.0</td>\n",
              "      <td>Facility/Infrastructure Attack</td>\n",
              "      <td>Incendiary</td>\n",
              "      <td>1</td>\n",
              "      <td>Government (Diplomatic)</td>\n",
              "      <td>United States</td>\n",
              "      <td>Unknown</td>\n",
              "      <td>NaN</td>\n",
              "      <td>NaN</td>\n",
              "      <td>NaN</td>\n",
              "    </tr>\n",
              "  </tbody>\n",
              "</table>\n",
              "<p>5 rows × 25 columns</p>\n",
              "</div>\n",
              "      <button class=\"colab-df-convert\" onclick=\"convertToInteractive('df-a0aed958-f1c9-46ca-a634-54506c0430a2')\"\n",
              "              title=\"Convert this dataframe to an interactive table.\"\n",
              "              style=\"display:none;\">\n",
              "\n",
              "  <svg xmlns=\"http://www.w3.org/2000/svg\" height=\"24px\"viewBox=\"0 0 24 24\"\n",
              "       width=\"24px\">\n",
              "    <path d=\"M0 0h24v24H0V0z\" fill=\"none\"/>\n",
              "    <path d=\"M18.56 5.44l.94 2.06.94-2.06 2.06-.94-2.06-.94-.94-2.06-.94 2.06-2.06.94zm-11 1L8.5 8.5l.94-2.06 2.06-.94-2.06-.94L8.5 2.5l-.94 2.06-2.06.94zm10 10l.94 2.06.94-2.06 2.06-.94-2.06-.94-.94-2.06-.94 2.06-2.06.94z\"/><path d=\"M17.41 7.96l-1.37-1.37c-.4-.4-.92-.59-1.43-.59-.52 0-1.04.2-1.43.59L10.3 9.45l-7.72 7.72c-.78.78-.78 2.05 0 2.83L4 21.41c.39.39.9.59 1.41.59.51 0 1.02-.2 1.41-.59l7.78-7.78 2.81-2.81c.8-.78.8-2.07 0-2.86zM5.41 20L4 18.59l7.72-7.72 1.47 1.35L5.41 20z\"/>\n",
              "  </svg>\n",
              "      </button>\n",
              "\n",
              "\n",
              "\n",
              "    <div id=\"df-6eb8f153-4c87-4085-9831-293df915fda8\">\n",
              "      <button class=\"colab-df-quickchart\" onclick=\"quickchart('df-6eb8f153-4c87-4085-9831-293df915fda8')\"\n",
              "              title=\"Suggest charts.\"\n",
              "              style=\"display:none;\">\n",
              "\n",
              "<svg xmlns=\"http://www.w3.org/2000/svg\" height=\"24px\"viewBox=\"0 0 24 24\"\n",
              "     width=\"24px\">\n",
              "    <g>\n",
              "        <path d=\"M19 3H5c-1.1 0-2 .9-2 2v14c0 1.1.9 2 2 2h14c1.1 0 2-.9 2-2V5c0-1.1-.9-2-2-2zM9 17H7v-7h2v7zm4 0h-2V7h2v10zm4 0h-2v-4h2v4z\"/>\n",
              "    </g>\n",
              "</svg>\n",
              "      </button>\n",
              "    </div>\n",
              "\n",
              "<style>\n",
              "  .colab-df-quickchart {\n",
              "    background-color: #E8F0FE;\n",
              "    border: none;\n",
              "    border-radius: 50%;\n",
              "    cursor: pointer;\n",
              "    display: none;\n",
              "    fill: #1967D2;\n",
              "    height: 32px;\n",
              "    padding: 0 0 0 0;\n",
              "    width: 32px;\n",
              "  }\n",
              "\n",
              "  .colab-df-quickchart:hover {\n",
              "    background-color: #E2EBFA;\n",
              "    box-shadow: 0px 1px 2px rgba(60, 64, 67, 0.3), 0px 1px 3px 1px rgba(60, 64, 67, 0.15);\n",
              "    fill: #174EA6;\n",
              "  }\n",
              "\n",
              "  [theme=dark] .colab-df-quickchart {\n",
              "    background-color: #3B4455;\n",
              "    fill: #D2E3FC;\n",
              "  }\n",
              "\n",
              "  [theme=dark] .colab-df-quickchart:hover {\n",
              "    background-color: #434B5C;\n",
              "    box-shadow: 0px 1px 3px 1px rgba(0, 0, 0, 0.15);\n",
              "    filter: drop-shadow(0px 1px 2px rgba(0, 0, 0, 0.3));\n",
              "    fill: #FFFFFF;\n",
              "  }\n",
              "</style>\n",
              "\n",
              "    <script>\n",
              "      async function quickchart(key) {\n",
              "        const containerElement = document.querySelector('#' + key);\n",
              "        const charts = await google.colab.kernel.invokeFunction(\n",
              "            'suggestCharts', [key], {});\n",
              "      }\n",
              "    </script>\n",
              "\n",
              "      <script>\n",
              "\n",
              "function displayQuickchartButton(domScope) {\n",
              "  let quickchartButtonEl =\n",
              "    domScope.querySelector('#df-6eb8f153-4c87-4085-9831-293df915fda8 button.colab-df-quickchart');\n",
              "  quickchartButtonEl.style.display =\n",
              "    google.colab.kernel.accessAllowed ? 'block' : 'none';\n",
              "}\n",
              "\n",
              "        displayQuickchartButton(document);\n",
              "      </script>\n",
              "      <style>\n",
              "    .colab-df-container {\n",
              "      display:flex;\n",
              "      flex-wrap:wrap;\n",
              "      gap: 12px;\n",
              "    }\n",
              "\n",
              "    .colab-df-convert {\n",
              "      background-color: #E8F0FE;\n",
              "      border: none;\n",
              "      border-radius: 50%;\n",
              "      cursor: pointer;\n",
              "      display: none;\n",
              "      fill: #1967D2;\n",
              "      height: 32px;\n",
              "      padding: 0 0 0 0;\n",
              "      width: 32px;\n",
              "    }\n",
              "\n",
              "    .colab-df-convert:hover {\n",
              "      background-color: #E2EBFA;\n",
              "      box-shadow: 0px 1px 2px rgba(60, 64, 67, 0.3), 0px 1px 3px 1px rgba(60, 64, 67, 0.15);\n",
              "      fill: #174EA6;\n",
              "    }\n",
              "\n",
              "    [theme=dark] .colab-df-convert {\n",
              "      background-color: #3B4455;\n",
              "      fill: #D2E3FC;\n",
              "    }\n",
              "\n",
              "    [theme=dark] .colab-df-convert:hover {\n",
              "      background-color: #434B5C;\n",
              "      box-shadow: 0px 1px 3px 1px rgba(0, 0, 0, 0.15);\n",
              "      filter: drop-shadow(0px 1px 2px rgba(0, 0, 0, 0.3));\n",
              "      fill: #FFFFFF;\n",
              "    }\n",
              "  </style>\n",
              "\n",
              "      <script>\n",
              "        const buttonEl =\n",
              "          document.querySelector('#df-a0aed958-f1c9-46ca-a634-54506c0430a2 button.colab-df-convert');\n",
              "        buttonEl.style.display =\n",
              "          google.colab.kernel.accessAllowed ? 'block' : 'none';\n",
              "\n",
              "        async function convertToInteractive(key) {\n",
              "          const element = document.querySelector('#df-a0aed958-f1c9-46ca-a634-54506c0430a2');\n",
              "          const dataTable =\n",
              "            await google.colab.kernel.invokeFunction('convertToInteractive',\n",
              "                                                     [key], {});\n",
              "          if (!dataTable) return;\n",
              "\n",
              "          const docLinkHtml = 'Like what you see? Visit the ' +\n",
              "            '<a target=\"_blank\" href=https://colab.research.google.com/notebooks/data_table.ipynb>data table notebook</a>'\n",
              "            + ' to learn more about interactive tables.';\n",
              "          element.innerHTML = '';\n",
              "          dataTable['output_type'] = 'display_data';\n",
              "          await google.colab.output.renderOutput(dataTable, element);\n",
              "          const docLink = document.createElement('div');\n",
              "          docLink.innerHTML = docLinkHtml;\n",
              "          element.appendChild(docLink);\n",
              "        }\n",
              "      </script>\n",
              "    </div>\n",
              "  </div>\n"
            ]
          },
          "metadata": {},
          "execution_count": 4
        }
      ]
    },
    {
      "cell_type": "markdown",
      "source": [
        "### Dataset Rows & Columns count"
      ],
      "metadata": {
        "id": "7hBIi_osiCS2"
      }
    },
    {
      "cell_type": "code",
      "source": [
        "# Dataset Rows & Columns count\n",
        "df.shape"
      ],
      "metadata": {
        "id": "Kllu7SJgmLij",
        "colab": {
          "base_uri": "https://localhost:8080/"
        },
        "outputId": "eedfa6f8-65d7-495e-a842-bddbce928dd6"
      },
      "execution_count": null,
      "outputs": [
        {
          "output_type": "execute_result",
          "data": {
            "text/plain": [
              "(181691, 25)"
            ]
          },
          "metadata": {},
          "execution_count": 5
        }
      ]
    },
    {
      "cell_type": "markdown",
      "source": [
        "### Dataset Information"
      ],
      "metadata": {
        "id": "JlHwYmJAmNHm"
      }
    },
    {
      "cell_type": "code",
      "source": [
        "# Dataset Info\n",
        "df.info()"
      ],
      "metadata": {
        "id": "e9hRXRi6meOf",
        "colab": {
          "base_uri": "https://localhost:8080/"
        },
        "outputId": "746f7963-2689-4d67-8330-2526d0933e53"
      },
      "execution_count": null,
      "outputs": [
        {
          "output_type": "stream",
          "name": "stdout",
          "text": [
            "<class 'pandas.core.frame.DataFrame'>\n",
            "RangeIndex: 181691 entries, 0 to 181690\n",
            "Data columns (total 25 columns):\n",
            " #   Column           Non-Null Count   Dtype  \n",
            "---  ------           --------------   -----  \n",
            " 0   Unnamed: 0       181691 non-null  int64  \n",
            " 1   iyear            181691 non-null  int64  \n",
            " 2   imonth           181691 non-null  int64  \n",
            " 3   iday             181691 non-null  int64  \n",
            " 4   extended         181691 non-null  int64  \n",
            " 5   resolution       181691 non-null  object \n",
            " 6   country_txt      181691 non-null  object \n",
            " 7   region_txt       181691 non-null  object \n",
            " 8   provstate        181270 non-null  object \n",
            " 9   latitude         177135 non-null  float64\n",
            " 10  longitude        177134 non-null  float64\n",
            " 11  crit1            181691 non-null  int64  \n",
            " 12  crit2            181691 non-null  int64  \n",
            " 13  crit3            181691 non-null  int64  \n",
            " 14  alternative_txt  181691 non-null  object \n",
            " 15  multiple         181690 non-null  float64\n",
            " 16  attacktype1_txt  181691 non-null  object \n",
            " 17  weaptype1_txt    181691 non-null  object \n",
            " 18  success          181691 non-null  int64  \n",
            " 19  targtype1_txt    181691 non-null  object \n",
            " 20  natlty1_txt      180132 non-null  object \n",
            " 21  gname            181691 non-null  object \n",
            " 22  nkill            171378 non-null  float64\n",
            " 23  ransomamt        1350 non-null    float64\n",
            " 24  nreleased        10400 non-null   float64\n",
            "dtypes: float64(6), int64(9), object(10)\n",
            "memory usage: 34.7+ MB\n"
          ]
        }
      ]
    },
    {
      "cell_type": "markdown",
      "source": [
        "#### Duplicate Values"
      ],
      "metadata": {
        "id": "35m5QtbWiB9F"
      }
    },
    {
      "cell_type": "code",
      "source": [
        "# Dataset Duplicate Value Count\n",
        "df.duplicated().sum()"
      ],
      "metadata": {
        "id": "1sLdpKYkmox0",
        "colab": {
          "base_uri": "https://localhost:8080/"
        },
        "outputId": "3bf36265-db3f-48b9-d378-decb0074ea44"
      },
      "execution_count": null,
      "outputs": [
        {
          "output_type": "execute_result",
          "data": {
            "text/plain": [
              "0"
            ]
          },
          "metadata": {},
          "execution_count": 7
        }
      ]
    },
    {
      "cell_type": "markdown",
      "source": [
        "## From above output Dataset doesnt have any duplicate values"
      ],
      "metadata": {
        "id": "lnZIsW2VBYz0"
      }
    },
    {
      "cell_type": "markdown",
      "source": [
        "#### Missing Values/Null Values"
      ],
      "metadata": {
        "id": "PoPl-ycgm1ru"
      }
    },
    {
      "cell_type": "code",
      "source": [
        "# Missing Values/Null Values Count\n",
        "df.isnull().sum()"
      ],
      "metadata": {
        "id": "GgHWkxvamxVg",
        "colab": {
          "base_uri": "https://localhost:8080/"
        },
        "outputId": "36adf949-06be-43c6-aaf1-4c0199ede6a6"
      },
      "execution_count": null,
      "outputs": [
        {
          "output_type": "execute_result",
          "data": {
            "text/plain": [
              "Unnamed: 0              0\n",
              "iyear                   0\n",
              "imonth                  0\n",
              "iday                    0\n",
              "extended                0\n",
              "resolution              0\n",
              "country_txt             0\n",
              "region_txt              0\n",
              "provstate             421\n",
              "latitude             4556\n",
              "longitude            4557\n",
              "crit1                   0\n",
              "crit2                   0\n",
              "crit3                   0\n",
              "alternative_txt         0\n",
              "multiple                1\n",
              "attacktype1_txt         0\n",
              "weaptype1_txt           0\n",
              "success                 0\n",
              "targtype1_txt           0\n",
              "natlty1_txt          1559\n",
              "gname                   0\n",
              "nkill               10313\n",
              "ransomamt          180341\n",
              "nreleased          171291\n",
              "dtype: int64"
            ]
          },
          "metadata": {},
          "execution_count": 8
        }
      ]
    },
    {
      "cell_type": "code",
      "source": [
        "# Visualizing the missing values\n",
        "y = df.isnull().sum()\n",
        "x = list(df.columns)\n",
        "plt.figure(figsize = (14, 5))\n",
        "sns.barplot(x = x, y = y)\n",
        "plt.xticks(rotation = 45)"
      ],
      "metadata": {
        "id": "3q5wnI3om9sJ",
        "colab": {
          "base_uri": "https://localhost:8080/"
        },
        "outputId": "21b3e788-ff04-40f4-b155-f8d630508faf"
      },
      "execution_count": null,
      "outputs": [
        {
          "output_type": "execute_result",
          "data": {
            "text/plain": [
              "(array([ 0,  1,  2,  3,  4,  5,  6,  7,  8,  9, 10, 11, 12, 13, 14, 15, 16,\n",
              "        17, 18, 19, 20, 21, 22, 23, 24]),\n",
              " [Text(0, 0, 'Unnamed: 0'),\n",
              "  Text(1, 0, 'iyear'),\n",
              "  Text(2, 0, 'imonth'),\n",
              "  Text(3, 0, 'iday'),\n",
              "  Text(4, 0, 'extended'),\n",
              "  Text(5, 0, 'resolution'),\n",
              "  Text(6, 0, 'country_txt'),\n",
              "  Text(7, 0, 'region_txt'),\n",
              "  Text(8, 0, 'provstate'),\n",
              "  Text(9, 0, 'latitude'),\n",
              "  Text(10, 0, 'longitude'),\n",
              "  Text(11, 0, 'crit1'),\n",
              "  Text(12, 0, 'crit2'),\n",
              "  Text(13, 0, 'crit3'),\n",
              "  Text(14, 0, 'alternative_txt'),\n",
              "  Text(15, 0, 'multiple'),\n",
              "  Text(16, 0, 'attacktype1_txt'),\n",
              "  Text(17, 0, 'weaptype1_txt'),\n",
              "  Text(18, 0, 'success'),\n",
              "  Text(19, 0, 'targtype1_txt'),\n",
              "  Text(20, 0, 'natlty1_txt'),\n",
              "  Text(21, 0, 'gname'),\n",
              "  Text(22, 0, 'nkill'),\n",
              "  Text(23, 0, 'ransomamt'),\n",
              "  Text(24, 0, 'nreleased')])"
            ]
          },
          "metadata": {},
          "execution_count": 9
        },
        {
          "output_type": "display_data",
          "data": {
            "text/plain": [
              "<Figure size 1400x500 with 1 Axes>"
            ],
            "image/png": "[encoded data removed]"
          },
          "metadata": {}
        }
      ]
    },
    {
      "cell_type": "markdown",
      "source": [
        "### What did you know about your dataset?"
      ],
      "metadata": {
        "id": "H0kj-8xxnORC"
      }
    },
    {
      "cell_type": "markdown",
      "source": [
        "The dataset had 135 columns but I removed most of them & retained important columns for analysis. No rows are removed. Now the dataset have 24 columns with 1,81,691 rows. Out of 24 columns 7 columns have missing values. ```Ransaomamt``` & ```nreleased``` columns have significantly higher NaN values. Other columns have very low NaNs. & also it is worth noting that out of 24 columns 10 are object datatypes & other are integer & float."
      ],
      "metadata": {
        "id": "gfoNAAC-nUe_"
      }
    },
    {
      "cell_type": "markdown",
      "source": [
        "## ***2. Understanding Your Variables***"
      ],
      "metadata": {
        "id": "nA9Y7ga8ng1Z"
      }
    },
    {
      "cell_type": "code",
      "source": [
        "# Dataset Columns\n",
        "df.columns"
      ],
      "metadata": {
        "id": "j7xfkqrt5Ag5",
        "colab": {
          "base_uri": "https://localhost:8080/"
        },
        "outputId": "2226e96f-ffbb-4a92-ce00-31012becab03"
      },
      "execution_count": null,
      "outputs": [
        {
          "output_type": "execute_result",
          "data": {
            "text/plain": [
              "Index(['Unnamed: 0', 'iyear', 'imonth', 'iday', 'extended', 'resolution',\n",
              "       'country_txt', 'region_txt', 'provstate', 'latitude', 'longitude',\n",
              "       'crit1', 'crit2', 'crit3', 'alternative_txt', 'multiple',\n",
              "       'attacktype1_txt', 'weaptype1_txt', 'success', 'targtype1_txt',\n",
              "       'natlty1_txt', 'gname', 'nkill', 'ransomamt', 'nreleased'],\n",
              "      dtype='object')"
            ]
          },
          "metadata": {},
          "execution_count": 10
        }
      ]
    },
    {
      "cell_type": "code",
      "source": [
        "# Dataset Describe\n",
        "df.describe()"
      ],
      "metadata": {
        "id": "DnOaZdaE5Q5t",
        "colab": {
          "base_uri": "https://localhost:8080/"
        },
        "outputId": "bca93352-797e-49a0-d401-d70724cad537"
      },
      "execution_count": null,
      "outputs": [
        {
          "output_type": "execute_result",
          "data": {
            "text/plain": [
              "          Unnamed: 0          iyear         imonth           iday  \\\n",
              "count  181691.000000  181691.000000  181691.000000  181691.000000   \n",
              "mean    90845.000000    2002.638997       6.467277      15.505644   \n",
              "std     52449.818217      13.259430       3.388303       8.814045   \n",
              "min         0.000000    1970.000000       0.000000       0.000000   \n",
              "25%     45422.500000    1991.000000       4.000000       8.000000   \n",
              "50%     90845.000000    2009.000000       6.000000      15.000000   \n",
              "75%    136267.500000    2014.000000       9.000000      23.000000   \n",
              "max    181690.000000    2017.000000      12.000000      31.000000   \n",
              "\n",
              "            extended       latitude     longitude          crit1  \\\n",
              "count  181691.000000  177135.000000  1.771340e+05  181691.000000   \n",
              "mean        0.045346      23.498343 -4.586957e+02       0.988530   \n",
              "std         0.208063      18.569242  2.047790e+05       0.106483   \n",
              "min         0.000000     -53.154613 -8.618590e+07       0.000000   \n",
              "25%         0.000000      11.510046  4.545640e+00       1.000000   \n",
              "50%         0.000000      31.467463  4.324651e+01       1.000000   \n",
              "75%         0.000000      34.685087  6.871033e+01       1.000000   \n",
              "max         1.000000      74.633553  1.793667e+02       1.000000   \n",
              "\n",
              "               crit2          crit3       multiple        success  \\\n",
              "count  181691.000000  181691.000000  181690.000000  181691.000000   \n",
              "mean        0.993093       0.875668       0.137773       0.889598   \n",
              "std         0.082823       0.329961       0.344663       0.313391   \n",
              "min         0.000000       0.000000       0.000000       0.000000   \n",
              "25%         1.000000       1.000000       0.000000       1.000000   \n",
              "50%         1.000000       1.000000       0.000000       1.000000   \n",
              "75%         1.000000       1.000000       0.000000       1.000000   \n",
              "max         1.000000       1.000000       1.000000       1.000000   \n",
              "\n",
              "               nkill     ransomamt     nreleased  \n",
              "count  171378.000000  1.350000e+03  10400.000000  \n",
              "mean        2.403272  3.172530e+06    -29.018269  \n",
              "std        11.545741  3.021157e+07     65.720119  \n",
              "min         0.000000 -9.900000e+01    -99.000000  \n",
              "25%         0.000000  0.000000e+00    -99.000000  \n",
              "50%         0.000000  1.500000e+04      0.000000  \n",
              "75%         2.000000  4.000000e+05      1.000000  \n",
              "max      1570.000000  1.000000e+09   2769.000000  "
            ],
            "text/html": [
              "\n",
              "\n",
              "  <div id=\"df-477e56fb-b704-4d36-a74f-b31827e07a30\">\n",
              "    <div class=\"colab-df-container\">\n",
              "      <div>\n",
              "<style scoped>\n",
              "    .dataframe tbody tr th:only-of-type {\n",
              "        vertical-align: middle;\n",
              "    }\n",
              "\n",
              "    .dataframe tbody tr th {\n",
              "        vertical-align: top;\n",
              "    }\n",
              "\n",
              "    .dataframe thead th {\n",
              "        text-align: right;\n",
              "    }\n",
              "</style>\n",
              "<table border=\"1\" class=\"dataframe\">\n",
              "  <thead>\n",
              "    <tr style=\"text-align: right;\">\n",
              "      <th></th>\n",
              "      <th>Unnamed: 0</th>\n",
              "      <th>iyear</th>\n",
              "      <th>imonth</th>\n",
              "      <th>iday</th>\n",
              "      <th>extended</th>\n",
              "      <th>latitude</th>\n",
              "      <th>longitude</th>\n",
              "      <th>crit1</th>\n",
              "      <th>crit2</th>\n",
              "      <th>crit3</th>\n",
              "      <th>multiple</th>\n",
              "      <th>success</th>\n",
              "      <th>nkill</th>\n",
              "      <th>ransomamt</th>\n",
              "      <th>nreleased</th>\n",
              "    </tr>\n",
              "  </thead>\n",
              "  <tbody>\n",
              "    <tr>\n",
              "      <th>count</th>\n",
              "      <td>181691.000000</td>\n",
              "      <td>181691.000000</td>\n",
              "      <td>181691.000000</td>\n",
              "      <td>181691.000000</td>\n",
              "      <td>181691.000000</td>\n",
              "      <td>177135.000000</td>\n",
              "      <td>1.771340e+05</td>\n",
              "      <td>181691.000000</td>\n",
              "      <td>181691.000000</td>\n",
              "      <td>181691.000000</td>\n",
              "      <td>181690.000000</td>\n",
              "      <td>181691.000000</td>\n",
              "      <td>171378.000000</td>\n",
              "      <td>1.350000e+03</td>\n",
              "      <td>10400.000000</td>\n",
              "    </tr>\n",
              "    <tr>\n",
              "      <th>mean</th>\n",
              "      <td>90845.000000</td>\n",
              "      <td>2002.638997</td>\n",
              "      <td>6.467277</td>\n",
              "      <td>15.505644</td>\n",
              "      <td>0.045346</td>\n",
              "      <td>23.498343</td>\n",
              "      <td>-4.586957e+02</td>\n",
              "      <td>0.988530</td>\n",
              "      <td>0.993093</td>\n",
              "      <td>0.875668</td>\n",
              "      <td>0.137773</td>\n",
              "      <td>0.889598</td>\n",
              "      <td>2.403272</td>\n",
              "      <td>3.172530e+06</td>\n",
              "      <td>-29.018269</td>\n",
              "    </tr>\n",
              "    <tr>\n",
              "      <th>std</th>\n",
              "      <td>52449.818217</td>\n",
              "      <td>13.259430</td>\n",
              "      <td>3.388303</td>\n",
              "      <td>8.814045</td>\n",
              "      <td>0.208063</td>\n",
              "      <td>18.569242</td>\n",
              "      <td>2.047790e+05</td>\n",
              "      <td>0.106483</td>\n",
              "      <td>0.082823</td>\n",
              "      <td>0.329961</td>\n",
              "      <td>0.344663</td>\n",
              "      <td>0.313391</td>\n",
              "      <td>11.545741</td>\n",
              "      <td>3.021157e+07</td>\n",
              "      <td>65.720119</td>\n",
              "    </tr>\n",
              "    <tr>\n",
              "      <th>min</th>\n",
              "      <td>0.000000</td>\n",
              "      <td>1970.000000</td>\n",
              "      <td>0.000000</td>\n",
              "      <td>0.000000</td>\n",
              "      <td>0.000000</td>\n",
              "      <td>-53.154613</td>\n",
              "      <td>-8.618590e+07</td>\n",
              "      <td>0.000000</td>\n",
              "      <td>0.000000</td>\n",
              "      <td>0.000000</td>\n",
              "      <td>0.000000</td>\n",
              "      <td>0.000000</td>\n",
              "      <td>0.000000</td>\n",
              "      <td>-9.900000e+01</td>\n",
              "      <td>-99.000000</td>\n",
              "    </tr>\n",
              "    <tr>\n",
              "      <th>25%</th>\n",
              "      <td>45422.500000</td>\n",
              "      <td>1991.000000</td>\n",
              "      <td>4.000000</td>\n",
              "      <td>8.000000</td>\n",
              "      <td>0.000000</td>\n",
              "      <td>11.510046</td>\n",
              "      <td>4.545640e+00</td>\n",
              "      <td>1.000000</td>\n",
              "      <td>1.000000</td>\n",
              "      <td>1.000000</td>\n",
              "      <td>0.000000</td>\n",
              "      <td>1.000000</td>\n",
              "      <td>0.000000</td>\n",
              "      <td>0.000000e+00</td>\n",
              "      <td>-99.000000</td>\n",
              "    </tr>\n",
              "    <tr>\n",
              "      <th>50%</th>\n",
              "      <td>90845.000000</td>\n",
              "      <td>2009.000000</td>\n",
              "      <td>6.000000</td>\n",
              "      <td>15.000000</td>\n",
              "      <td>0.000000</td>\n",
              "      <td>31.467463</td>\n",
              "      <td>4.324651e+01</td>\n",
              "      <td>1.000000</td>\n",
              "      <td>1.000000</td>\n",
              "      <td>1.000000</td>\n",
              "      <td>0.000000</td>\n",
              "      <td>1.000000</td>\n",
              "      <td>0.000000</td>\n",
              "      <td>1.500000e+04</td>\n",
              "      <td>0.000000</td>\n",
              "    </tr>\n",
              "    <tr>\n",
              "      <th>75%</th>\n",
              "      <td>136267.500000</td>\n",
              "      <td>2014.000000</td>\n",
              "      <td>9.000000</td>\n",
              "      <td>23.000000</td>\n",
              "      <td>0.000000</td>\n",
              "      <td>34.685087</td>\n",
              "      <td>6.871033e+01</td>\n",
              "      <td>1.000000</td>\n",
              "      <td>1.000000</td>\n",
              "      <td>1.000000</td>\n",
              "      <td>0.000000</td>\n",
              "      <td>1.000000</td>\n",
              "      <td>2.000000</td>\n",
              "      <td>4.000000e+05</td>\n",
              "      <td>1.000000</td>\n",
              "    </tr>\n",
              "    <tr>\n",
              "      <th>max</th>\n",
              "      <td>181690.000000</td>\n",
              "      <td>2017.000000</td>\n",
              "      <td>12.000000</td>\n",
              "      <td>31.000000</td>\n",
              "      <td>1.000000</td>\n",
              "      <td>74.633553</td>\n",
              "      <td>1.793667e+02</td>\n",
              "      <td>1.000000</td>\n",
              "      <td>1.000000</td>\n",
              "      <td>1.000000</td>\n",
              "      <td>1.000000</td>\n",
              "      <td>1.000000</td>\n",
              "      <td>1570.000000</td>\n",
              "      <td>1.000000e+09</td>\n",
              "      <td>2769.000000</td>\n",
              "    </tr>\n",
              "  </tbody>\n",
              "</table>\n",
              "</div>\n",
              "      <button class=\"colab-df-convert\" onclick=\"convertToInteractive('df-477e56fb-b704-4d36-a74f-b31827e07a30')\"\n",
              "              title=\"Convert this dataframe to an interactive table.\"\n",
              "              style=\"display:none;\">\n",
              "\n",
              "  <svg xmlns=\"http://www.w3.org/2000/svg\" height=\"24px\"viewBox=\"0 0 24 24\"\n",
              "       width=\"24px\">\n",
              "    <path d=\"M0 0h24v24H0V0z\" fill=\"none\"/>\n",
              "    <path d=\"M18.56 5.44l.94 2.06.94-2.06 2.06-.94-2.06-.94-.94-2.06-.94 2.06-2.06.94zm-11 1L8.5 8.5l.94-2.06 2.06-.94-2.06-.94L8.5 2.5l-.94 2.06-2.06.94zm10 10l.94 2.06.94-2.06 2.06-.94-2.06-.94-.94-2.06-.94 2.06-2.06.94z\"/><path d=\"M17.41 7.96l-1.37-1.37c-.4-.4-.92-.59-1.43-.59-.52 0-1.04.2-1.43.59L10.3 9.45l-7.72 7.72c-.78.78-.78 2.05 0 2.83L4 21.41c.39.39.9.59 1.41.59.51 0 1.02-.2 1.41-.59l7.78-7.78 2.81-2.81c.8-.78.8-2.07 0-2.86zM5.41 20L4 18.59l7.72-7.72 1.47 1.35L5.41 20z\"/>\n",
              "  </svg>\n",
              "      </button>\n",
              "\n",
              "\n",
              "\n",
              "    <div id=\"df-11898135-2486-405d-9f22-9566a2dce124\">\n",
              "      <button class=\"colab-df-quickchart\" onclick=\"quickchart('df-11898135-2486-405d-9f22-9566a2dce124')\"\n",
              "              title=\"Suggest charts.\"\n",
              "              style=\"display:none;\">\n",
              "\n",
              "<svg xmlns=\"http://www.w3.org/2000/svg\" height=\"24px\"viewBox=\"0 0 24 24\"\n",
              "     width=\"24px\">\n",
              "    <g>\n",
              "        <path d=\"M19 3H5c-1.1 0-2 .9-2 2v14c0 1.1.9 2 2 2h14c1.1 0 2-.9 2-2V5c0-1.1-.9-2-2-2zM9 17H7v-7h2v7zm4 0h-2V7h2v10zm4 0h-2v-4h2v4z\"/>\n",
              "    </g>\n",
              "</svg>\n",
              "      </button>\n",
              "    </div>\n",
              "\n",
              "<style>\n",
              "  .colab-df-quickchart {\n",
              "    background-color: #E8F0FE;\n",
              "    border: none;\n",
              "    border-radius: 50%;\n",
              "    cursor: pointer;\n",
              "    display: none;\n",
              "    fill: #1967D2;\n",
              "    height: 32px;\n",
              "    padding: 0 0 0 0;\n",
              "    width: 32px;\n",
              "  }\n",
              "\n",
              "  .colab-df-quickchart:hover {\n",
              "    background-color: #E2EBFA;\n",
              "    box-shadow: 0px 1px 2px rgba(60, 64, 67, 0.3), 0px 1px 3px 1px rgba(60, 64, 67, 0.15);\n",
              "    fill: #174EA6;\n",
              "  }\n",
              "\n",
              "  [theme=dark] .colab-df-quickchart {\n",
              "    background-color: #3B4455;\n",
              "    fill: #D2E3FC;\n",
              "  }\n",
              "\n",
              "  [theme=dark] .colab-df-quickchart:hover {\n",
              "    background-color: #434B5C;\n",
              "    box-shadow: 0px 1px 3px 1px rgba(0, 0, 0, 0.15);\n",
              "    filter: drop-shadow(0px 1px 2px rgba(0, 0, 0, 0.3));\n",
              "    fill: #FFFFFF;\n",
              "  }\n",
              "</style>\n",
              "\n",
              "    <script>\n",
              "      async function quickchart(key) {\n",
              "        const containerElement = document.querySelector('#' + key);\n",
              "        const charts = await google.colab.kernel.invokeFunction(\n",
              "            'suggestCharts', [key], {});\n",
              "      }\n",
              "    </script>\n",
              "\n",
              "      <script>\n",
              "\n",
              "function displayQuickchartButton(domScope) {\n",
              "  let quickchartButtonEl =\n",
              "    domScope.querySelector('#df-11898135-2486-405d-9f22-9566a2dce124 button.colab-df-quickchart');\n",
              "  quickchartButtonEl.style.display =\n",
              "    google.colab.kernel.accessAllowed ? 'block' : 'none';\n",
              "}\n",
              "\n",
              "        displayQuickchartButton(document);\n",
              "      </script>\n",
              "      <style>\n",
              "    .colab-df-container {\n",
              "      display:flex;\n",
              "      flex-wrap:wrap;\n",
              "      gap: 12px;\n",
              "    }\n",
              "\n",
              "    .colab-df-convert {\n",
              "      background-color: #E8F0FE;\n",
              "      border: none;\n",
              "      border-radius: 50%;\n",
              "      cursor: pointer;\n",
              "      display: none;\n",
              "      fill: #1967D2;\n",
              "      height: 32px;\n",
              "      padding: 0 0 0 0;\n",
              "      width: 32px;\n",
              "    }\n",
              "\n",
              "    .colab-df-convert:hover {\n",
              "      background-color: #E2EBFA;\n",
              "      box-shadow: 0px 1px 2px rgba(60, 64, 67, 0.3), 0px 1px 3px 1px rgba(60, 64, 67, 0.15);\n",
              "      fill: #174EA6;\n",
              "    }\n",
              "\n",
              "    [theme=dark] .colab-df-convert {\n",
              "      background-color: #3B4455;\n",
              "      fill: #D2E3FC;\n",
              "    }\n",
              "\n",
              "    [theme=dark] .colab-df-convert:hover {\n",
              "      background-color: #434B5C;\n",
              "      box-shadow: 0px 1px 3px 1px rgba(0, 0, 0, 0.15);\n",
              "      filter: drop-shadow(0px 1px 2px rgba(0, 0, 0, 0.3));\n",
              "      fill: #FFFFFF;\n",
              "    }\n",
              "  </style>\n",
              "\n",
              "      <script>\n",
              "        const buttonEl =\n",
              "          document.querySelector('#df-477e56fb-b704-4d36-a74f-b31827e07a30 button.colab-df-convert');\n",
              "        buttonEl.style.display =\n",
              "          google.colab.kernel.accessAllowed ? 'block' : 'none';\n",
              "\n",
              "        async function convertToInteractive(key) {\n",
              "          const element = document.querySelector('#df-477e56fb-b704-4d36-a74f-b31827e07a30');\n",
              "          const dataTable =\n",
              "            await google.colab.kernel.invokeFunction('convertToInteractive',\n",
              "                                                     [key], {});\n",
              "          if (!dataTable) return;\n",
              "\n",
              "          const docLinkHtml = 'Like what you see? Visit the ' +\n",
              "            '<a target=\"_blank\" href=https://colab.research.google.com/notebooks/data_table.ipynb>data table notebook</a>'\n",
              "            + ' to learn more about interactive tables.';\n",
              "          element.innerHTML = '';\n",
              "          dataTable['output_type'] = 'display_data';\n",
              "          await google.colab.output.renderOutput(dataTable, element);\n",
              "          const docLink = document.createElement('div');\n",
              "          docLink.innerHTML = docLinkHtml;\n",
              "          element.appendChild(docLink);\n",
              "        }\n",
              "      </script>\n",
              "    </div>\n",
              "  </div>\n"
            ]
          },
          "metadata": {},
          "execution_count": 11
        }
      ]
    },
    {
      "cell_type": "markdown",
      "source": [
        "### Variables Description"
      ],
      "metadata": {
        "id": "PBTbrJXOngz2"
      }
    },
    {
      "cell_type": "markdown",
      "source": [
        "1. ```iyear``` :  Year of attack\n",
        "2. ```imonth``` : month of attack\n",
        "3. ```iday``` : date of attack\n",
        "4. ```extended``` : whether the attack took more than 24 hours or lesser. **1** for attacks time > 24h & **0** for attack time < 24h\n",
        "5. ```resolution``` : Whether the matter resolved or not. **no resolution** for not resolved / not resolution required & resolved attacks are in detail with description\n",
        "6. ```country_txt``` : country name\n",
        "7. ```region_txt``` : region name\n",
        "8. ```provstate``` : state in which attack happened\n",
        "5. ```latitude``` :  latitude of attack location\n",
        "6. ```longitude``` :  longitufe of attack location\n",
        "7. ```crit1```\n",
        "8. ```crit1```\n",
        "9. ```crit1```\n",
        "14. ```alternative_txt``` : whether attack was an act of terrorism or something else. **no alt** for not alternative & description string if it was not an act of terrorism\n",
        "10. ```multiple``` : whether attack was on one place or other attacks was linked to it. **1** for yes & **0** for no.\n",
        "16. ```attacktype1_txt``` : type of attack\n",
        "17. ```weaptype1_txt``` : type of weapon used in attack\n",
        "11. ```success``` : whether the attack was successful. (Even if their intention was not satisfied but they did damage in the area then it is considered\n",
        "successful) **1** for yes & **0** for no.\n",
        "18. ```targtype1_txt``` : type of target(business/private prop/armed forces/heist etc)\n",
        "19. ```natlty1_txt``` : nationality of target\n",
        "20. ```gname``` : name of terror group\n",
        "12. ```nkill``` : number of killing happened.\n",
        "13. ```ransomamt``` : The amount demanded by attackers\n",
        "14. ```nreleased``` :  Number of hostages released"
      ],
      "metadata": {
        "id": "aJV4KIxSnxay"
      }
    },
    {
      "cell_type": "markdown",
      "source": [
        "### Check Unique Values for each variable."
      ],
      "metadata": {
        "id": "u3PMJOP6ngxN"
      }
    },
    {
      "cell_type": "code",
      "source": [
        "# Check Unique Values for each variable.\n",
        "for x in df.columns:\n",
        "  print(x, ' : ' , df[x].unique(), \"\\n\\n\")"
      ],
      "metadata": {
        "id": "zms12Yq5n-jE",
        "colab": {
          "base_uri": "https://localhost:8080/"
        },
        "outputId": "b3fef9fa-1574-4519-ce42-f73e22ec1840"
      },
      "execution_count": null,
      "outputs": [
        {
          "output_type": "stream",
          "name": "stdout",
          "text": [
            "Unnamed: 0  :  [     0      1      2 ... 181688 181689 181690] \n",
            "\n",
            "\n",
            "iyear  :  [1970 1971 1972 1973 1974 1975 1976 1977 1978 1979 1980 1981 1986 1982\n",
            " 1983 1984 1985 1987 1988 1989 1990 1991 1992 1994 1995 1996 1997 1998\n",
            " 1999 2000 2001 2002 2003 2004 2005 2006 2007 2008 2009 2010 2011 2012\n",
            " 2013 2014 2015 2016 2017] \n",
            "\n",
            "\n",
            "imonth  :  [ 7  0  1  2  3  4  5  6  8  9 10 11 12] \n",
            "\n",
            "\n",
            "iday  :  [ 2  0  1  3  6  8  9 10 11 12 13 14 15 19 20 21 22 25 26 27 28 30 31  4\n",
            "  7 16 17 18 23 24  5 29] \n",
            "\n",
            "\n",
            "extended  :  [0 1] \n",
            "\n",
            "\n",
            "resolution  :  ['no resolution' '3/8/1970' '3/15/1970' ... '3/23/2013' '12/9/2011'\n",
            " '12/27/2011'] \n",
            "\n",
            "\n",
            "country_txt  :  ['Dominican Republic' 'Mexico' 'Philippines' 'Greece' 'Japan'\n",
            " 'United States' 'Uruguay' 'Italy' 'East Germany (GDR)' 'Ethiopia'\n",
            " 'Guatemala' 'Venezuela' 'West Germany (FRG)' 'Switzerland' 'Jordan'\n",
            " 'Spain' 'Brazil' 'Egypt' 'Argentina' 'Lebanon' 'Ireland' 'Turkey'\n",
            " 'Paraguay' 'Iran' 'United Kingdom' 'Colombia' 'Bolivia' 'Nicaragua'\n",
            " 'Netherlands' 'Belgium' 'Canada' 'Australia' 'Pakistan' 'Zambia' 'Sweden'\n",
            " 'Costa Rica' 'South Yemen' 'Cambodia' 'Israel' 'Poland' 'Taiwan' 'Panama'\n",
            " 'Kuwait' 'West Bank and Gaza Strip' 'Austria' 'Czechoslovakia' 'India'\n",
            " 'France' 'South Vietnam' 'Brunei' 'Zaire'\n",
            " \"People's Republic of the Congo\" 'Portugal' 'Algeria' 'El Salvador'\n",
            " 'Thailand' 'Haiti' 'Sudan' 'Morocco' 'Cyprus' 'Myanmar' 'Afghanistan'\n",
            " 'Peru' 'Chile' 'Honduras' 'Yugoslavia' 'Ecuador' 'New Zealand' 'Malaysia'\n",
            " 'Singapore' 'Botswana' 'Jamaica' 'Chad' 'North Yemen' 'Andorra' 'Syria'\n",
            " 'South Korea' 'United Arab Emirates' 'South Africa' 'Kenya' 'Iraq'\n",
            " 'Somalia' 'Tanzania' 'Sri Lanka' 'Namibia' 'Bahamas' 'Nigeria' 'Barbados'\n",
            " 'Trinidad and Tobago' 'Bangladesh' 'Angola' 'Mauritania' 'Saudi Arabia'\n",
            " 'Djibouti' 'Indonesia' 'Malta' 'Rhodesia' 'Soviet Union' 'Denmark'\n",
            " 'Western Sahara' 'Guyana' 'Mozambique' 'Tunisia' 'Uganda' 'Norway'\n",
            " 'Lesotho' 'Gabon' 'Libya' 'Bahrain' 'Hong Kong' 'Senegal' 'Zimbabwe'\n",
            " 'Guinea' 'Grenada' 'New Hebrides' 'Belize' 'Guadeloupe' 'Martinique'\n",
            " 'Vatican City' 'Albania' 'Central African Republic' 'Seychelles'\n",
            " 'Dominica' 'Qatar' 'Bulgaria' 'Suriname' 'Swaziland' 'Luxembourg'\n",
            " 'Iceland' 'French Guiana' 'Falkland Islands' 'Burkina Faso'\n",
            " 'New Caledonia' 'Romania' 'Niger' 'Nepal' 'Togo' 'Finland' 'Fiji' 'Ghana'\n",
            " 'Maldives' 'Mauritius' 'Hungary' 'Laos' 'Papua New Guinea' 'China'\n",
            " 'Liberia' 'Republic of the Congo' 'Mali' 'Germany' 'Yemen' 'Rwanda'\n",
            " 'Sierra Leone' 'Cameroon' 'Cuba' 'Croatia' 'Georgia' 'Azerbaijan'\n",
            " 'Madagascar' 'Lithuania' 'Burundi' 'Ukraine' 'Moldova' 'Armenia' 'Russia'\n",
            " 'Ivory Coast' 'Kazakhstan' 'Antigua and Barbuda' 'Bosnia-Herzegovina'\n",
            " 'Equatorial Guinea' 'Tajikistan' 'Malawi' 'Uzbekistan' 'Latvia' 'Estonia'\n",
            " 'Vietnam' 'Comoros' 'Benin' 'Slovak Republic' 'Macedonia'\n",
            " 'Wallis and Futuna' 'Belarus' 'Czech Republic' 'Slovenia' 'Gambia'\n",
            " 'North Korea' 'Eritrea' 'St. Kitts and Nevis' 'French Polynesia' 'Macau'\n",
            " 'Kyrgyzstan' 'Vanuatu' 'Democratic Republic of the Congo' 'Kosovo'\n",
            " 'Solomon Islands' 'East Timor' 'St. Lucia' 'Guinea-Bissau' 'Montenegro'\n",
            " 'International' 'Turkmenistan' 'Serbia-Montenegro' 'Bhutan' 'Serbia'\n",
            " 'South Sudan'] \n",
            "\n",
            "\n",
            "region_txt  :  ['Central America & Caribbean' 'North America' 'Southeast Asia'\n",
            " 'Western Europe' 'East Asia' 'South America' 'Eastern Europe'\n",
            " 'Sub-Saharan Africa' 'Middle East & North Africa' 'Australasia & Oceania'\n",
            " 'South Asia' 'Central Asia'] \n",
            "\n",
            "\n",
            "provstate  :  [nan 'Federal' 'Tarlac' ... 'Carlow' 'Western Lakes' 'Vidzeme'] \n",
            "\n",
            "\n",
            "latitude  :  [18.456792 19.371887 15.478598 ...  2.359673 35.407278  6.900742] \n",
            "\n",
            "\n",
            "longitude  :  [-69.951164 -99.086624 120.599741 ...  45.385034  35.942679 124.437908] \n",
            "\n",
            "\n",
            "crit1  :  [1 0] \n",
            "\n",
            "\n",
            "crit2  :  [1 0] \n",
            "\n",
            "\n",
            "crit3  :  [1 0] \n",
            "\n",
            "\n",
            "alternative_txt  :  ['no alt' 'Other Crime Type' 'Insurgency/Guerilla Action'\n",
            " 'Intra/Inter-group Conflict' 'State Actors' 'Lack of Intentionality'] \n",
            "\n",
            "\n",
            "multiple  :  [ 0.  1. nan] \n",
            "\n",
            "\n",
            "attacktype1_txt  :  ['Assassination' 'Hostage Taking (Kidnapping)' 'Bombing/Explosion'\n",
            " 'Facility/Infrastructure Attack' 'Armed Assault' 'Hijacking' 'Unknown'\n",
            " 'Unarmed Assault' 'Hostage Taking (Barricade Incident)'] \n",
            "\n",
            "\n",
            "weaptype1_txt  :  ['Unknown' 'Explosives' 'Incendiary' 'Firearms' 'Chemical' 'Melee'\n",
            " 'Sabotage Equipment'\n",
            " 'Vehicle (not to include vehicle-borne explosives, i.e., car or truck bombs)'\n",
            " 'Fake Weapons' 'Radiological' 'Other' 'Biological'] \n",
            "\n",
            "\n",
            "success  :  [1 0] \n",
            "\n",
            "\n",
            "targtype1_txt  :  ['Private Citizens & Property' 'Government (Diplomatic)'\n",
            " 'Journalists & Media' 'Police' 'Utilities' 'Military'\n",
            " 'Government (General)' 'Airports & Aircraft' 'Business'\n",
            " 'Educational Institution' 'Violent Political Party'\n",
            " 'Religious Figures/Institutions' 'Unknown' 'Transportation' 'Tourists'\n",
            " 'NGO' 'Telecommunication' 'Food or Water Supply'\n",
            " 'Terrorists/Non-State Militia' 'Other' 'Maritime' 'Abortion Related'] \n",
            "\n",
            "\n",
            "natlty1_txt  :  ['Dominican Republic' 'Belgium' 'United States' 'Uruguay' 'Germany'\n",
            " 'Great Britain' 'Venezuela' 'Puerto Rico' 'Israel' 'Austria'\n",
            " 'Switzerland' 'Jordan' 'Ethiopia' 'Spain' nan 'Japan' 'International'\n",
            " 'Egypt' 'Paraguay' 'Soviet Union' 'Ireland' 'Argentina' 'Philippines'\n",
            " 'China' 'West Bank and Gaza Strip' 'Multinational' 'Northern Ireland'\n",
            " 'Brazil' 'Haiti' 'South Africa' 'Portugal' 'Colombia' 'Greece'\n",
            " 'Nicaragua' 'Indonesia' 'Yugoslavia' 'Italy' 'Rhodesia' 'Ivory Coast'\n",
            " 'Iran' 'Canada' 'Poland' 'Sweden' 'Turkey' 'Costa Rica' 'Russia' 'Iraq'\n",
            " 'Cuba' 'France' 'Malawi' 'Democratic Republic of the Congo' 'Netherlands'\n",
            " 'Chile' 'Hong Kong' 'Yemen' 'Mexico' 'Syria' 'India' 'New Zealand'\n",
            " 'Senegal' 'Algeria' 'Peru' 'Czechoslovakia' 'Saudi Arabia' 'Denmark'\n",
            " 'West Germany (FRG)' 'Bahamas' 'Bolivia' 'El Salvador' 'Botswana'\n",
            " 'Guatemala' 'Lebanon' 'North Korea' 'Albania' 'South Korea'\n",
            " 'United Kingdom' 'Pakistan' 'Kenya' 'Cyprus' 'Panama' 'Sri Lanka'\n",
            " 'Ecuador' 'Malaysia' 'Morocco' 'Somalia' 'Nigeria' 'Namibia' 'Armenia'\n",
            " 'Barbados' 'Kuwait' 'Mozambique' 'Guyana' 'Taiwan' 'Tunisia' 'Myanmar'\n",
            " 'Trinidad and Tobago' 'Mauritania' 'Bulgaria' 'Thailand' 'Bahrain'\n",
            " 'Finland' 'Vietnam' 'United Arab Emirates' 'Malta' 'Australia' 'Zimbabwe'\n",
            " 'Zambia' 'Angola' 'Norway' 'Jamaica' 'Uganda' 'Croatia' 'Lesotho'\n",
            " 'Tanzania' 'Guinea' 'Fiji' 'Djibouti' 'Libya' 'Eritrea' 'Afghanistan'\n",
            " 'Honduras' 'Zaire' 'Mali' 'Bangladesh' 'Grenada' 'Vanuatu' 'Belize'\n",
            " 'North Yemen' 'Romania' 'Sudan' 'Chad' 'Central African Republic'\n",
            " 'Liberia' 'Seychelles' 'Dominica' \"People's Republic of the Congo\"\n",
            " 'Comoros' 'Suriname' 'Vatican City' 'Lithuania' 'Guadeloupe' 'Martinique'\n",
            " 'Western Sahara' 'Swaziland' 'Burkina Faso' 'Man, Isle of'\n",
            " 'New Caledonia' 'Cambodia' 'Singapore' 'Corsica' 'Luxembourg' 'Niger'\n",
            " 'Nepal' 'Hungary' 'Togo' 'Iceland' 'Sinhalese' 'Ghana' 'Maldives'\n",
            " 'Mauritius' 'Papua New Guinea' 'Qatar' 'Rwanda' 'Cameroon' 'Estonia'\n",
            " 'Sierra Leone' 'Latvia' 'Greenland' 'Bosnia-Herzegovina' 'Madagascar'\n",
            " 'Burundi' 'Azerbaijan' 'Kazakhstan' 'Georgia' 'Antigua and Barbuda'\n",
            " 'Commonwealth of Independent States' 'Ukraine' 'Moldova'\n",
            " 'Equatorial Guinea' 'Tajikistan' 'Laos' 'Brunei' 'Uzbekistan'\n",
            " 'Serbia-Montenegro' 'Republic of the Congo' 'Gabon' 'Slovak Republic'\n",
            " 'Macedonia' 'Mongolia' 'Benin' 'Belarus' 'Oman' 'Czech Republic' 'Gambia'\n",
            " 'Asian' 'Serbia' 'St. Kitts and Nevis' 'Kyrgyzstan' 'Macau' 'Slovenia'\n",
            " 'French Guiana' 'East Timor' 'Kosovo' 'Solomon Islands' 'St. Lucia'\n",
            " 'Guinea-Bissau' 'Montenegro' 'Bhutan' 'Bermuda' 'St. Martin'\n",
            " 'South Sudan' 'Turkmenistan' 'Saba (Netherlands Antilles)' 'Tuvalu'\n",
            " 'Virgin Islands (U.S.)' 'Marshall Islands'] \n",
            "\n",
            "\n",
            "gname  :  ['MANO-D' '23rd of September Communist League' 'Unknown' ...\n",
            " 'Fatoni Warriors' 'Minorities of Metropolitan Attacks'\n",
            " 'Baloch Republican Party'] \n",
            "\n",
            "\n",
            "nkill  :  [1.000e+00 0.000e+00       nan 7.000e+00 4.700e+01 2.000e+00 3.600e+01\n",
            " 5.000e+00 3.000e+00 4.000e+00 2.500e+01 1.500e+01 2.600e+01 8.000e+00\n",
            " 8.100e+01 6.000e+00 9.000e+00 1.600e+01 3.000e+01 3.100e+01 1.200e+01\n",
            " 2.100e+01 1.400e+01 8.800e+01 1.100e+01 1.000e+01 2.700e+01 1.800e+01\n",
            " 2.200e+01 1.900e+01 9.200e+01 1.300e+01 7.300e+01 1.000e+02 4.200e+01\n",
            " 4.300e+01 1.700e+01 9.800e+01 4.220e+02 4.800e+01 3.400e+01 5.400e+01\n",
            " 5.000e+01 3.500e+01 2.000e+01 4.100e+01 3.700e+01 2.800e+01 4.000e+01\n",
            " 3.200e+01 8.500e+01 2.300e+01 3.000e+02 6.000e+01 2.400e+01 5.800e+01\n",
            " 7.000e+01 8.700e+01 4.500e+01 3.800e+01 2.900e+01 7.400e+01 8.300e+01\n",
            " 9.000e+01 6.600e+01 8.000e+01 6.700e+01 5.100e+01 3.900e+01 1.140e+02\n",
            " 1.240e+02 7.600e+01 3.300e+01 7.500e+01 5.700e+01 6.200e+01 4.600e+01\n",
            " 5.600e+01 6.300e+01 1.200e+02 1.020e+02 7.800e+01 7.900e+01 5.200e+01\n",
            " 7.700e+01 2.000e+02 4.900e+01 1.110e+02 1.650e+02 4.400e+01 2.410e+02\n",
            " 6.400e+01 1.080e+02 6.500e+01 1.320e+02 2.700e+02 2.280e+02 1.100e+02\n",
            " 1.360e+02 1.800e+02 2.500e+02 9.300e+01 1.300e+02 5.900e+01 9.400e+01\n",
            " 5.300e+01 1.460e+02 3.290e+02 9.700e+01 7.100e+01 2.400e+02 2.270e+02\n",
            " 1.260e+02 1.060e+02 3.880e+02 6.800e+01 8.400e+01 8.200e+01 1.710e+02\n",
            " 1.070e+02 5.500e+01 1.120e+02 7.200e+01 9.600e+01 1.400e+02 6.100e+01\n",
            " 1.050e+02 1.500e+02 1.150e+02 8.900e+01 1.180e+03 1.700e+02 1.680e+02\n",
            " 1.210e+02 3.750e+02 9.100e+01 3.040e+02 1.230e+02 1.350e+02 2.560e+02\n",
            " 1.090e+02 2.710e+02 2.060e+02 1.040e+02 3.200e+02 2.750e+02 2.240e+02\n",
            " 1.180e+02 1.290e+02 9.500e+01 2.590e+02 1.384e+03 1.383e+03 1.900e+02\n",
            " 1.190e+02 1.010e+02 1.160e+02 5.180e+02 3.440e+02 1.600e+02 1.880e+02\n",
            " 1.030e+02 2.050e+02 1.450e+02 1.530e+02 1.270e+02 6.900e+01 1.410e+02\n",
            " 1.340e+02 4.000e+02 8.600e+01 1.840e+02 2.100e+02 1.420e+02 2.120e+02\n",
            " 2.870e+02 3.150e+02 1.510e+02 6.700e+02 1.570e+03 3.100e+02 2.980e+02\n",
            " 9.530e+02 5.170e+02 2.010e+02 1.220e+02 1.580e+02 1.170e+02 1.440e+02\n",
            " 2.080e+02 1.520e+02 2.300e+02 2.800e+02 1.740e+02 1.430e+02 3.830e+02\n",
            " 2.830e+02 1.540e+02 2.840e+02 4.330e+02 2.660e+02 1.330e+02 1.630e+02\n",
            " 1.280e+02 5.880e+02 3.110e+02] \n",
            "\n",
            "\n",
            "ransomamt  :  [            nan  8.00000000e+05  1.10000000e+05  0.00000000e+00\n",
            "  7.00000000e+05  1.20000000e+04  1.50000000e+04  2.50000000e+05\n",
            "  1.00000000e+05  4.00000000e+05  8.00000000e+04  5.00000000e+06\n",
            "  1.00000000e+06  2.20000000e+05  5.00000000e+05  4.00000000e+04\n",
            "  1.05000000e+05  3.20000000e+05  2.50000000e+04  1.00000000e+07\n",
            "  2.00000000e+04  1.50000000e+06  2.00000000e+05  1.68000000e+05\n",
            "  1.14500000e+06  1.42000000e+07  3.00000000e+06  6.21000000e+05\n",
            "  6.10000000e+07  1.33000000e+04  2.70000000e+04  2.00000000e+07\n",
            "  3.40000000e+06  3.00000000e+05  3.75000000e+05  4.08000000e+05\n",
            "  2.80000000e+04  1.40000000e+05  1.30000000e+06  5.07000000e+06\n",
            "  1.40000000e+07  4.37000000e+05  2.10000000e+06  1.94000000e+05\n",
            "  5.00000000e+04  1.35000000e+06  4.77950000e+05  6.00000000e+06\n",
            "  3.50000000e+05  1.50000000e+07  6.00000000e+05  2.20000000e+06\n",
            "  1.07000000e+07  5.30000000e+04  7.40000000e+05  6.00000000e+04\n",
            "  1.30000000e+05  3.10000000e+05  4.00000000e+06  1.40000000e+06\n",
            "  1.50000000e+05  2.60000000e+05  8.20000000e+07  1.30000000e+07\n",
            "  1.00000000e+09  7.50000000e+04  2.10000000e+04  2.00000000e+06\n",
            "  8.70000000e+04  4.40000000e+04  1.25000000e+05  8.00000000e+06\n",
            "  2.30000000e+06  3.60000000e+04  5.90000000e+05  1.42000000e+05\n",
            "  4.50000000e+05  1.10000000e+06  1.00000000e+04  7.50000000e+05\n",
            "  1.54000000e+05  2.40000000e+05  4.15000000e+05  1.20000000e+06\n",
            "  5.00000000e+07  1.25000000e+04  4.35000000e+05  4.30000000e+06\n",
            "  9.26000000e+05  9.00000000e+05  3.00000000e+07  8.34000000e+05\n",
            "  2.50000000e+06  1.20000000e+05  9.99000000e+02  5.00000000e+03\n",
            "  7.50000000e+06  2.50000000e+07  3.90000000e+05  2.40000000e+06\n",
            "  8.40000000e+06  2.40000000e+04  1.70000000e+07  4.60000000e+04\n",
            "  3.30000000e+06  2.80000000e+06  5.10700000e+06  2.18000000e+05\n",
            "  3.57000000e+04  1.79000000e+05  3.55000000e+05  1.00000000e+00\n",
            "  7.10000000e+04  1.15000000e+05  3.42000000e+05  6.20000000e+04\n",
            "  1.72000000e+03  1.00000000e+08  1.80000000e+06  2.12000000e+05\n",
            "  7.00000000e+06  5.80000000e+06  3.70000000e+05  4.61500000e+05\n",
            "  1.80600000e+05  1.28000000e+06  3.00000000e+04  4.16660000e+04\n",
            "  3.20000000e+04  2.07641000e+05  6.30000000e+05  1.93000000e+04\n",
            "  1.94332000e+05  2.60000000e+07  3.10000000e+03  3.90000000e+03\n",
            "  7.80000000e+04  1.90000000e+06  1.70000000e+04  5.72210000e+04\n",
            "  4.00000000e+03  5.80000000e+05  1.20000000e+07  5.55000000e+05\n",
            "  3.85000000e+04  3.84000000e+05  1.91000000e+05  2.00000000e+03\n",
            "  6.82000000e+05  2.62000000e+06  5.70600000e+03  3.85000000e+05\n",
            "  1.92000000e+05  3.55000000e+04  5.65000000e+04  1.15384000e+05\n",
            "  4.71920000e+04  5.66300000e+04  1.90440000e+05  2.65836000e+05\n",
            "  5.79000000e+05  1.23000000e+06  5.80000000e+07  1.86000000e+03\n",
            "  9.00000000e+03  1.02500000e+07  8.24640000e+04  9.43430000e+04\n",
            "  2.42317000e+05  8.07750000e+04  1.43000000e+05  2.61136000e+05\n",
            "  4.50000000e+03  1.10000000e+07  8.10000000e+03 -9.90000000e+01\n",
            "  1.03300000e+05  1.98000000e+06  1.50000000e+03  2.00000000e+08\n",
            "  1.20000000e+03  4.76190000e+05  1.17000000e+05  2.30600000e+05\n",
            "  2.25174000e+05  1.60000000e+06 -9.00000000e+00  3.40000000e+04\n",
            "  1.27621000e+05  6.15260000e+04  1.03300000e+03  2.12800000e+05\n",
            "  1.88400000e+06  1.78000000e+05  2.04883000e+05  1.01250000e+05\n",
            "  6.60000000e+04  1.06400000e+05  1.17900000e+05  5.24000000e+05\n",
            "  7.30000000e+04  1.27388500e+06  7.46268600e+06  2.43540000e+06\n",
            "  2.50207700e+04  6.25519200e+04  7.98400000e+04  2.65440000e+04\n",
            "  2.59000000e+05  1.97156700e+04  6.64000000e+05  2.72720000e+04\n",
            "  4.75000000e+07  4.43066100e+04  6.37000000e+03  2.00000000e+01\n",
            "  6.64000000e+04  2.51109200e+04  4.25980000e+04  1.19365000e+03\n",
            "  3.44392200e+05  2.10000000e+07  2.35000000e+05  9.76117500e+05\n",
            "  5.93870000e+04  1.60000000e+04  1.67100000e+03  2.32550000e+04\n",
            "  1.10076000e+05  5.76968250e+05  2.23000000e+04  3.03498000e+05\n",
            "  1.04913000e+05  1.66623600e+05  4.00000000e+07  7.95550000e+04\n",
            "  2.02737200e+06  2.18956160e+05  1.92975000e+07  1.84230000e+05\n",
            "  1.50000000e+08  3.03774600e+05  1.32000000e+08  2.48600000e+05\n",
            "  1.67630000e+05  5.09550000e+06  1.01910000e+04  1.55980000e+04\n",
            "  3.77000000e+05  9.47688000e+06  3.30000000e+07  3.48150000e+05\n",
            "  1.38040000e+06  1.06636800e+05  1.11570000e+06  7.60000000e+05\n",
            "  3.35645500e+04  1.92139000e+05  3.01279000e+05  6.60000000e+06\n",
            "  5.09400000e+05  3.35260000e+06  8.36100000e+04  3.02902000e+06\n",
            "  3.34335000e+05  8.34725000e+05  3.33890000e+04  1.66182000e+05\n",
            "  1.66945000e+05  1.62285000e+05  3.07787500e+04  1.11185400e+04\n",
            "  3.31071000e+04  1.22820000e+04  3.04329300e+05  6.14628000e+04\n",
            "  1.66530700e+04  6.87286200e+04  1.15620450e+07  3.08737500e+05\n",
            "  1.45917900e+05  5.06073000e+05  5.58347500e+06  4.35790000e+04\n",
            "  8.10386080e+06  6.28516500e+05  1.23000000e+04  2.02373000e+06\n",
            "  5.05830000e+05  1.96083200e+05  4.51569800e+05  6.13686000e+04\n",
            "  2.81175450e+06  8.17675160e+05  9.84026000e+05  4.89680000e+04\n",
            "  6.15926600e+04  4.10010000e+04  3.28000000e+04  7.32874410e+05\n",
            "  2.09000000e+03  3.05110630e+06  1.60000000e+05  1.40536000e+03\n",
            "  5.50000000e+06  1.09298570e+05  8.70000000e+02  3.26370800e+04\n",
            "  1.62900000e+03  3.24201800e+05  1.62100900e+05  3.23926000e+05\n",
            "  3.33556200e+05  6.74876400e+04  9.30710000e+04  4.72920000e+04\n",
            "  1.02014800e+05  1.60667200e+04  4.82160000e+03  1.47096200e+04\n",
            "  1.42000000e+04  7.88377000e+04  7.88265000e+03  3.36836550e+05\n",
            "  1.56684700e+04  2.21388400e+05  2.51334900e+04  2.24719000e+05\n",
            "  1.33005000e+06  2.21806600e+04  3.28396500e+07  4.38000000e+04\n",
            "  2.43960300e+04  6.86296366e+06  1.92077000e+04  1.41284000e+05\n",
            "  2.25950000e+02  7.55745000e+03  5.06657200e+04  2.80000000e+07\n",
            "  3.27600000e+03  1.74200000e+04  8.02426800e+07  3.17713000e+05\n",
            "  6.43267100e+04  1.63000000e+04  5.60000000e+06  3.67840000e+05\n",
            "  6.36360000e+04  2.44600000e+04  1.51400000e+04  5.67774698e+06\n",
            "  1.14000000e+04  2.99325400e+04  7.46882000e+03  3.19050000e+04\n",
            "  3.28000000e+03  2.95000000e+02  1.90794200e+05  1.06043550e+06\n",
            "  7.46168250e+06  1.08254010e+05  3.82897000e+03  1.58604500e+04\n",
            "  4.11862730e+05  1.04182190e+05  2.96263200e+04  1.63000000e+03\n",
            "  7.40901000e+03  2.42116190e+06  6.35426000e+03  6.02775300e+05\n",
            "  2.03321900e+04  1.11639000e+07  3.73995000e+03  1.48130400e+05\n",
            "  2.50000000e+03  9.92880000e+04  2.22401700e+04  8.90000000e+02\n",
            "  6.00000000e+03  4.01372800e+04  4.80000000e+04  4.27704000e+06\n",
            "  2.28571430e+05  1.00492000e+03  8.19675000e+03  1.00573000e+03\n",
            "  3.63000000e+05  1.02745400e+04  5.23835200e+04  1.13780000e+05\n",
            "  6.05000000e+05  4.88520000e+04  2.20690080e+05  9.77997000e+04\n",
            "  4.74451000e+05  2.33281500e+04  3.11100000e+04  9.53745000e+04\n",
            "  1.52500000e+03  4.30000000e+05  9.48992000e+06  5.54786000e+03\n",
            "  1.00278720e+05  1.13879000e+04  5.43110000e+04  2.71555000e+06\n",
            "  3.94013000e+03  5.57108000e+04  1.39082500e+05  1.93577900e+04\n",
            "  2.23850000e+04  2.21586000e+03  3.90000000e+04  2.77000000e+05\n",
            "  4.51500000e+05  4.34000000e+01  3.08400000e+04  2.30400000e+05\n",
            "  5.97000000e+03  2.77000000e+03  6.92500000e+04  2.77000000e+04\n",
            "  1.22880000e+04  1.00295000e+05  3.06600000e+05  3.57200000e+03\n",
            "  4.31400000e+03  2.00070000e+04] \n",
            "\n",
            "\n",
            "nreleased  :  [       nan  1.000e+00  5.000e+00  6.000e+01  1.000e+01  1.550e+02\n",
            "  1.750e+02  3.000e+00  4.000e+00  6.000e+00  2.600e+01  1.870e+02\n",
            "  1.050e+02  2.000e+00  8.200e+01  1.300e+01  4.800e+01 -9.900e+01\n",
            "  1.600e+01  8.000e+00  2.300e+01  2.500e+01  9.200e+01  7.000e+00\n",
            "  1.200e+01  7.000e+01  5.600e+01  1.400e+01  3.400e+01  0.000e+00\n",
            "  6.600e+01  4.400e+01  3.000e+01  1.370e+02  1.800e+01  1.100e+02\n",
            "  1.470e+02  4.300e+01  5.000e+01  5.400e+01  1.130e+02  2.150e+02\n",
            "  7.900e+01  3.800e+01  1.020e+02  1.380e+02  1.000e+02  9.000e+01\n",
            "  9.000e+00  2.100e+01  1.140e+02  3.900e+02  1.890e+02  2.640e+02\n",
            "  4.600e+01  1.180e+02  1.310e+02  1.270e+02  1.570e+02  3.300e+01\n",
            "  9.700e+01  7.100e+01  1.610e+02  1.520e+02  2.200e+01  1.250e+02\n",
            "  1.510e+02  1.290e+02  4.200e+01  3.100e+01  3.200e+01  1.620e+02\n",
            "  8.800e+01  1.440e+02  1.150e+02  1.900e+01  4.000e+01  1.100e+01\n",
            "  1.300e+02  1.390e+02  1.560e+02  2.700e+01  1.640e+02  6.900e+01\n",
            "  3.600e+01  1.070e+02  1.990e+02  2.010e+02  1.500e+01  8.000e+01\n",
            "  4.700e+01  2.000e+01  1.700e+01  8.300e+01  2.400e+01  6.400e+01\n",
            "  2.300e+02  8.100e+01  1.880e+02  7.500e+02  3.900e+01  4.960e+02\n",
            "  1.650e+02  9.100e+01  1.720e+02  1.040e+02  5.100e+01  1.900e+02\n",
            "  4.100e+01  2.800e+01  6.200e+01  2.900e+01  6.100e+01  7.800e+02\n",
            "  2.670e+02  1.830e+02  8.560e+02  2.070e+02  9.900e+01  2.000e+02\n",
            "  1.030e+02  3.250e+02  3.500e+01  6.300e+01  9.500e+01  1.280e+02\n",
            "  4.000e+02  7.000e+02  1.260e+02  1.201e+03  4.500e+01  4.900e+01\n",
            "  7.300e+01  8.370e+02  9.300e+01  1.690e+02  1.530e+02  8.500e+01\n",
            "  2.769e+03  5.110e+02  1.920e+02  2.310e+02  3.000e+02  1.010e+02\n",
            "  3.010e+02  1.700e+02  5.700e+01  1.080e+02  1.400e+02  5.500e+01\n",
            "  6.000e+02  7.960e+02  1.000e+03  7.800e+01  3.220e+02  2.350e+02\n",
            "  5.740e+02] \n",
            "\n",
            "\n"
          ]
        }
      ]
    },
    {
      "cell_type": "markdown",
      "source": [
        "## 3. ***Data Wrangling***"
      ],
      "metadata": {
        "id": "dauF4eBmngu3"
      }
    },
    {
      "cell_type": "markdown",
      "source": [
        "### Data Wrangling Code"
      ],
      "metadata": {
        "id": "bKJF3rekwFvQ"
      }
    },
    {
      "cell_type": "code",
      "source": [
        "# resolution columns have NaN because of those cases are not resolved. I will fill no resolution for empty values\n",
        "# make a diffrent copy of the dataframe for safety in case of code mess up\n",
        "df_backup = df.copy()\n",
        "df.resolution.fillna('no resolution', inplace = True)"
      ],
      "metadata": {
        "id": "wk-9a2fpoLcV"
      },
      "execution_count": null,
      "outputs": []
    },
    {
      "cell_type": "code",
      "source": [
        "# put 'no alt' for pure terrorism attack\n",
        "df.alternative_txt.fillna('no alt', inplace = True)"
      ],
      "metadata": {
        "id": "p5TqjRMfDFqJ"
      },
      "execution_count": null,
      "outputs": []
    },
    {
      "cell_type": "code",
      "source": [
        "# find number of attacks in each country\n",
        "df_countrywise_nattacks = df.groupby('country_txt')['iyear'].count().reset_index(name = 'No of attacks')\n",
        "df_countrywise_nattacks"
      ],
      "metadata": {
        "colab": {
          "base_uri": "https://localhost:8080/",
          "height": 423
        },
        "id": "l7cy6qUZDaYd",
        "outputId": "8462af40-0159-4893-ee59-14afda1b4c40"
      },
      "execution_count": null,
      "outputs": [
        {
          "output_type": "execute_result",
          "data": {
            "text/plain": [
              "     country_txt  No of attacks\n",
              "0    Afghanistan          12731\n",
              "1        Albania             80\n",
              "2        Algeria           2743\n",
              "3        Andorra              1\n",
              "4         Angola            499\n",
              "..           ...            ...\n",
              "200        Yemen           3347\n",
              "201   Yugoslavia            203\n",
              "202        Zaire             50\n",
              "203       Zambia             62\n",
              "204     Zimbabwe            101\n",
              "\n",
              "[205 rows x 2 columns]"
            ],
            "text/html": [
              "\n",
              "\n",
              "  <div id=\"df-8c12706f-5d39-4ab4-9dc1-4ab6e360c180\">\n",
              "    <div class=\"colab-df-container\">\n",
              "      <div>\n",
              "<style scoped>\n",
              "    .dataframe tbody tr th:only-of-type {\n",
              "        vertical-align: middle;\n",
              "    }\n",
              "\n",
              "    .dataframe tbody tr th {\n",
              "        vertical-align: top;\n",
              "    }\n",
              "\n",
              "    .dataframe thead th {\n",
              "        text-align: right;\n",
              "    }\n",
              "</style>\n",
              "<table border=\"1\" class=\"dataframe\">\n",
              "  <thead>\n",
              "    <tr style=\"text-align: right;\">\n",
              "      <th></th>\n",
              "      <th>country_txt</th>\n",
              "      <th>No of attacks</th>\n",
              "    </tr>\n",
              "  </thead>\n",
              "  <tbody>\n",
              "    <tr>\n",
              "      <th>0</th>\n",
              "      <td>Afghanistan</td>\n",
              "      <td>12731</td>\n",
              "    </tr>\n",
              "    <tr>\n",
              "      <th>1</th>\n",
              "      <td>Albania</td>\n",
              "      <td>80</td>\n",
              "    </tr>\n",
              "    <tr>\n",
              "      <th>2</th>\n",
              "      <td>Algeria</td>\n",
              "      <td>2743</td>\n",
              "    </tr>\n",
              "    <tr>\n",
              "      <th>3</th>\n",
              "      <td>Andorra</td>\n",
              "      <td>1</td>\n",
              "    </tr>\n",
              "    <tr>\n",
              "      <th>4</th>\n",
              "      <td>Angola</td>\n",
              "      <td>499</td>\n",
              "    </tr>\n",
              "    <tr>\n",
              "      <th>...</th>\n",
              "      <td>...</td>\n",
              "      <td>...</td>\n",
              "    </tr>\n",
              "    <tr>\n",
              "      <th>200</th>\n",
              "      <td>Yemen</td>\n",
              "      <td>3347</td>\n",
              "    </tr>\n",
              "    <tr>\n",
              "      <th>201</th>\n",
              "      <td>Yugoslavia</td>\n",
              "      <td>203</td>\n",
              "    </tr>\n",
              "    <tr>\n",
              "      <th>202</th>\n",
              "      <td>Zaire</td>\n",
              "      <td>50</td>\n",
              "    </tr>\n",
              "    <tr>\n",
              "      <th>203</th>\n",
              "      <td>Zambia</td>\n",
              "      <td>62</td>\n",
              "    </tr>\n",
              "    <tr>\n",
              "      <th>204</th>\n",
              "      <td>Zimbabwe</td>\n",
              "      <td>101</td>\n",
              "    </tr>\n",
              "  </tbody>\n",
              "</table>\n",
              "<p>205 rows × 2 columns</p>\n",
              "</div>\n",
              "      <button class=\"colab-df-convert\" onclick=\"convertToInteractive('df-8c12706f-5d39-4ab4-9dc1-4ab6e360c180')\"\n",
              "              title=\"Convert this dataframe to an interactive table.\"\n",
              "              style=\"display:none;\">\n",
              "\n",
              "  <svg xmlns=\"http://www.w3.org/2000/svg\" height=\"24px\"viewBox=\"0 0 24 24\"\n",
              "       width=\"24px\">\n",
              "    <path d=\"M0 0h24v24H0V0z\" fill=\"none\"/>\n",
              "    <path d=\"M18.56 5.44l.94 2.06.94-2.06 2.06-.94-2.06-.94-.94-2.06-.94 2.06-2.06.94zm-11 1L8.5 8.5l.94-2.06 2.06-.94-2.06-.94L8.5 2.5l-.94 2.06-2.06.94zm10 10l.94 2.06.94-2.06 2.06-.94-2.06-.94-.94-2.06-.94 2.06-2.06.94z\"/><path d=\"M17.41 7.96l-1.37-1.37c-.4-.4-.92-.59-1.43-.59-.52 0-1.04.2-1.43.59L10.3 9.45l-7.72 7.72c-.78.78-.78 2.05 0 2.83L4 21.41c.39.39.9.59 1.41.59.51 0 1.02-.2 1.41-.59l7.78-7.78 2.81-2.81c.8-.78.8-2.07 0-2.86zM5.41 20L4 18.59l7.72-7.72 1.47 1.35L5.41 20z\"/>\n",
              "  </svg>\n",
              "      </button>\n",
              "\n",
              "\n",
              "\n",
              "    <div id=\"df-c41a0e21-c98e-4185-937f-290871c84d22\">\n",
              "      <button class=\"colab-df-quickchart\" onclick=\"quickchart('df-c41a0e21-c98e-4185-937f-290871c84d22')\"\n",
              "              title=\"Suggest charts.\"\n",
              "              style=\"display:none;\">\n",
              "\n",
              "<svg xmlns=\"http://www.w3.org/2000/svg\" height=\"24px\"viewBox=\"0 0 24 24\"\n",
              "     width=\"24px\">\n",
              "    <g>\n",
              "        <path d=\"M19 3H5c-1.1 0-2 .9-2 2v14c0 1.1.9 2 2 2h14c1.1 0 2-.9 2-2V5c0-1.1-.9-2-2-2zM9 17H7v-7h2v7zm4 0h-2V7h2v10zm4 0h-2v-4h2v4z\"/>\n",
              "    </g>\n",
              "</svg>\n",
              "      </button>\n",
              "    </div>\n",
              "\n",
              "<style>\n",
              "  .colab-df-quickchart {\n",
              "    background-color: #E8F0FE;\n",
              "    border: none;\n",
              "    border-radius: 50%;\n",
              "    cursor: pointer;\n",
              "    display: none;\n",
              "    fill: #1967D2;\n",
              "    height: 32px;\n",
              "    padding: 0 0 0 0;\n",
              "    width: 32px;\n",
              "  }\n",
              "\n",
              "  .colab-df-quickchart:hover {\n",
              "    background-color: #E2EBFA;\n",
              "    box-shadow: 0px 1px 2px rgba(60, 64, 67, 0.3), 0px 1px 3px 1px rgba(60, 64, 67, 0.15);\n",
              "    fill: #174EA6;\n",
              "  }\n",
              "\n",
              "  [theme=dark] .colab-df-quickchart {\n",
              "    background-color: #3B4455;\n",
              "    fill: #D2E3FC;\n",
              "  }\n",
              "\n",
              "  [theme=dark] .colab-df-quickchart:hover {\n",
              "    background-color: #434B5C;\n",
              "    box-shadow: 0px 1px 3px 1px rgba(0, 0, 0, 0.15);\n",
              "    filter: drop-shadow(0px 1px 2px rgba(0, 0, 0, 0.3));\n",
              "    fill: #FFFFFF;\n",
              "  }\n",
              "</style>\n",
              "\n",
              "    <script>\n",
              "      async function quickchart(key) {\n",
              "        const containerElement = document.querySelector('#' + key);\n",
              "        const charts = await google.colab.kernel.invokeFunction(\n",
              "            'suggestCharts', [key], {});\n",
              "      }\n",
              "    </script>\n",
              "\n",
              "      <script>\n",
              "\n",
              "function displayQuickchartButton(domScope) {\n",
              "  let quickchartButtonEl =\n",
              "    domScope.querySelector('#df-c41a0e21-c98e-4185-937f-290871c84d22 button.colab-df-quickchart');\n",
              "  quickchartButtonEl.style.display =\n",
              "    google.colab.kernel.accessAllowed ? 'block' : 'none';\n",
              "}\n",
              "\n",
              "        displayQuickchartButton(document);\n",
              "      </script>\n",
              "      <style>\n",
              "    .colab-df-container {\n",
              "      display:flex;\n",
              "      flex-wrap:wrap;\n",
              "      gap: 12px;\n",
              "    }\n",
              "\n",
              "    .colab-df-convert {\n",
              "      background-color: #E8F0FE;\n",
              "      border: none;\n",
              "      border-radius: 50%;\n",
              "      cursor: pointer;\n",
              "      display: none;\n",
              "      fill: #1967D2;\n",
              "      height: 32px;\n",
              "      padding: 0 0 0 0;\n",
              "      width: 32px;\n",
              "    }\n",
              "\n",
              "    .colab-df-convert:hover {\n",
              "      background-color: #E2EBFA;\n",
              "      box-shadow: 0px 1px 2px rgba(60, 64, 67, 0.3), 0px 1px 3px 1px rgba(60, 64, 67, 0.15);\n",
              "      fill: #174EA6;\n",
              "    }\n",
              "\n",
              "    [theme=dark] .colab-df-convert {\n",
              "      background-color: #3B4455;\n",
              "      fill: #D2E3FC;\n",
              "    }\n",
              "\n",
              "    [theme=dark] .colab-df-convert:hover {\n",
              "      background-color: #434B5C;\n",
              "      box-shadow: 0px 1px 3px 1px rgba(0, 0, 0, 0.15);\n",
              "      filter: drop-shadow(0px 1px 2px rgba(0, 0, 0, 0.3));\n",
              "      fill: #FFFFFF;\n",
              "    }\n",
              "  </style>\n",
              "\n",
              "      <script>\n",
              "        const buttonEl =\n",
              "          document.querySelector('#df-8c12706f-5d39-4ab4-9dc1-4ab6e360c180 button.colab-df-convert');\n",
              "        buttonEl.style.display =\n",
              "          google.colab.kernel.accessAllowed ? 'block' : 'none';\n",
              "\n",
              "        async function convertToInteractive(key) {\n",
              "          const element = document.querySelector('#df-8c12706f-5d39-4ab4-9dc1-4ab6e360c180');\n",
              "          const dataTable =\n",
              "            await google.colab.kernel.invokeFunction('convertToInteractive',\n",
              "                                                     [key], {});\n",
              "          if (!dataTable) return;\n",
              "\n",
              "          const docLinkHtml = 'Like what you see? Visit the ' +\n",
              "            '<a target=\"_blank\" href=https://colab.research.google.com/notebooks/data_table.ipynb>data table notebook</a>'\n",
              "            + ' to learn more about interactive tables.';\n",
              "          element.innerHTML = '';\n",
              "          dataTable['output_type'] = 'display_data';\n",
              "          await google.colab.output.renderOutput(dataTable, element);\n",
              "          const docLink = document.createElement('div');\n",
              "          docLink.innerHTML = docLinkHtml;\n",
              "          element.appendChild(docLink);\n",
              "        }\n",
              "      </script>\n",
              "    </div>\n",
              "  </div>\n"
            ]
          },
          "metadata": {},
          "execution_count": 15
        }
      ]
    },
    {
      "cell_type": "code",
      "source": [
        "# find number of attacks in each attack type\n",
        "df_nattack_type = df.groupby('attacktype1_txt')['iyear'].count().reset_index(name = 'No of attacks')\n",
        "df_nattack_type"
      ],
      "metadata": {
        "colab": {
          "base_uri": "https://localhost:8080/",
          "height": 331
        },
        "id": "GD_zlbzeDlDh",
        "outputId": "6f3455b3-0b19-4b3c-ad69-60bed2f7ed4a"
      },
      "execution_count": null,
      "outputs": [
        {
          "output_type": "execute_result",
          "data": {
            "text/plain": [
              "                       attacktype1_txt  No of attacks\n",
              "0                        Armed Assault          42669\n",
              "1                        Assassination          19312\n",
              "2                    Bombing/Explosion          88255\n",
              "3       Facility/Infrastructure Attack          10356\n",
              "4                            Hijacking            659\n",
              "5  Hostage Taking (Barricade Incident)            991\n",
              "6          Hostage Taking (Kidnapping)          11158\n",
              "7                      Unarmed Assault           1015\n",
              "8                              Unknown           7276"
            ],
            "text/html": [
              "\n",
              "\n",
              "  <div id=\"df-4aabdde3-6b07-419f-84d7-ef12fe20eaf0\">\n",
              "    <div class=\"colab-df-container\">\n",
              "      <div>\n",
              "<style scoped>\n",
              "    .dataframe tbody tr th:only-of-type {\n",
              "        vertical-align: middle;\n",
              "    }\n",
              "\n",
              "    .dataframe tbody tr th {\n",
              "        vertical-align: top;\n",
              "    }\n",
              "\n",
              "    .dataframe thead th {\n",
              "        text-align: right;\n",
              "    }\n",
              "</style>\n",
              "<table border=\"1\" class=\"dataframe\">\n",
              "  <thead>\n",
              "    <tr style=\"text-align: right;\">\n",
              "      <th></th>\n",
              "      <th>attacktype1_txt</th>\n",
              "      <th>No of attacks</th>\n",
              "    </tr>\n",
              "  </thead>\n",
              "  <tbody>\n",
              "    <tr>\n",
              "      <th>0</th>\n",
              "      <td>Armed Assault</td>\n",
              "      <td>42669</td>\n",
              "    </tr>\n",
              "    <tr>\n",
              "      <th>1</th>\n",
              "      <td>Assassination</td>\n",
              "      <td>19312</td>\n",
              "    </tr>\n",
              "    <tr>\n",
              "      <th>2</th>\n",
              "      <td>Bombing/Explosion</td>\n",
              "      <td>88255</td>\n",
              "    </tr>\n",
              "    <tr>\n",
              "      <th>3</th>\n",
              "      <td>Facility/Infrastructure Attack</td>\n",
              "      <td>10356</td>\n",
              "    </tr>\n",
              "    <tr>\n",
              "      <th>4</th>\n",
              "      <td>Hijacking</td>\n",
              "      <td>659</td>\n",
              "    </tr>\n",
              "    <tr>\n",
              "      <th>5</th>\n",
              "      <td>Hostage Taking (Barricade Incident)</td>\n",
              "      <td>991</td>\n",
              "    </tr>\n",
              "    <tr>\n",
              "      <th>6</th>\n",
              "      <td>Hostage Taking (Kidnapping)</td>\n",
              "      <td>11158</td>\n",
              "    </tr>\n",
              "    <tr>\n",
              "      <th>7</th>\n",
              "      <td>Unarmed Assault</td>\n",
              "      <td>1015</td>\n",
              "    </tr>\n",
              "    <tr>\n",
              "      <th>8</th>\n",
              "      <td>Unknown</td>\n",
              "      <td>7276</td>\n",
              "    </tr>\n",
              "  </tbody>\n",
              "</table>\n",
              "</div>\n",
              "      <button class=\"colab-df-convert\" onclick=\"convertToInteractive('df-4aabdde3-6b07-419f-84d7-ef12fe20eaf0')\"\n",
              "              title=\"Convert this dataframe to an interactive table.\"\n",
              "              style=\"display:none;\">\n",
              "\n",
              "  <svg xmlns=\"http://www.w3.org/2000/svg\" height=\"24px\"viewBox=\"0 0 24 24\"\n",
              "       width=\"24px\">\n",
              "    <path d=\"M0 0h24v24H0V0z\" fill=\"none\"/>\n",
              "    <path d=\"M18.56 5.44l.94 2.06.94-2.06 2.06-.94-2.06-.94-.94-2.06-.94 2.06-2.06.94zm-11 1L8.5 8.5l.94-2.06 2.06-.94-2.06-.94L8.5 2.5l-.94 2.06-2.06.94zm10 10l.94 2.06.94-2.06 2.06-.94-2.06-.94-.94-2.06-.94 2.06-2.06.94z\"/><path d=\"M17.41 7.96l-1.37-1.37c-.4-.4-.92-.59-1.43-.59-.52 0-1.04.2-1.43.59L10.3 9.45l-7.72 7.72c-.78.78-.78 2.05 0 2.83L4 21.41c.39.39.9.59 1.41.59.51 0 1.02-.2 1.41-.59l7.78-7.78 2.81-2.81c.8-.78.8-2.07 0-2.86zM5.41 20L4 18.59l7.72-7.72 1.47 1.35L5.41 20z\"/>\n",
              "  </svg>\n",
              "      </button>\n",
              "\n",
              "\n",
              "\n",
              "    <div id=\"df-b60fc1e2-c52e-4444-bcc9-4436ce21c3b2\">\n",
              "      <button class=\"colab-df-quickchart\" onclick=\"quickchart('df-b60fc1e2-c52e-4444-bcc9-4436ce21c3b2')\"\n",
              "              title=\"Suggest charts.\"\n",
              "              style=\"display:none;\">\n",
              "\n",
              "<svg xmlns=\"http://www.w3.org/2000/svg\" height=\"24px\"viewBox=\"0 0 24 24\"\n",
              "     width=\"24px\">\n",
              "    <g>\n",
              "        <path d=\"M19 3H5c-1.1 0-2 .9-2 2v14c0 1.1.9 2 2 2h14c1.1 0 2-.9 2-2V5c0-1.1-.9-2-2-2zM9 17H7v-7h2v7zm4 0h-2V7h2v10zm4 0h-2v-4h2v4z\"/>\n",
              "    </g>\n",
              "</svg>\n",
              "      </button>\n",
              "    </div>\n",
              "\n",
              "<style>\n",
              "  .colab-df-quickchart {\n",
              "    background-color: #E8F0FE;\n",
              "    border: none;\n",
              "    border-radius: 50%;\n",
              "    cursor: pointer;\n",
              "    display: none;\n",
              "    fill: #1967D2;\n",
              "    height: 32px;\n",
              "    padding: 0 0 0 0;\n",
              "    width: 32px;\n",
              "  }\n",
              "\n",
              "  .colab-df-quickchart:hover {\n",
              "    background-color: #E2EBFA;\n",
              "    box-shadow: 0px 1px 2px rgba(60, 64, 67, 0.3), 0px 1px 3px 1px rgba(60, 64, 67, 0.15);\n",
              "    fill: #174EA6;\n",
              "  }\n",
              "\n",
              "  [theme=dark] .colab-df-quickchart {\n",
              "    background-color: #3B4455;\n",
              "    fill: #D2E3FC;\n",
              "  }\n",
              "\n",
              "  [theme=dark] .colab-df-quickchart:hover {\n",
              "    background-color: #434B5C;\n",
              "    box-shadow: 0px 1px 3px 1px rgba(0, 0, 0, 0.15);\n",
              "    filter: drop-shadow(0px 1px 2px rgba(0, 0, 0, 0.3));\n",
              "    fill: #FFFFFF;\n",
              "  }\n",
              "</style>\n",
              "\n",
              "    <script>\n",
              "      async function quickchart(key) {\n",
              "        const containerElement = document.querySelector('#' + key);\n",
              "        const charts = await google.colab.kernel.invokeFunction(\n",
              "            'suggestCharts', [key], {});\n",
              "      }\n",
              "    </script>\n",
              "\n",
              "      <script>\n",
              "\n",
              "function displayQuickchartButton(domScope) {\n",
              "  let quickchartButtonEl =\n",
              "    domScope.querySelector('#df-b60fc1e2-c52e-4444-bcc9-4436ce21c3b2 button.colab-df-quickchart');\n",
              "  quickchartButtonEl.style.display =\n",
              "    google.colab.kernel.accessAllowed ? 'block' : 'none';\n",
              "}\n",
              "\n",
              "        displayQuickchartButton(document);\n",
              "      </script>\n",
              "      <style>\n",
              "    .colab-df-container {\n",
              "      display:flex;\n",
              "      flex-wrap:wrap;\n",
              "      gap: 12px;\n",
              "    }\n",
              "\n",
              "    .colab-df-convert {\n",
              "      background-color: #E8F0FE;\n",
              "      border: none;\n",
              "      border-radius: 50%;\n",
              "      cursor: pointer;\n",
              "      display: none;\n",
              "      fill: #1967D2;\n",
              "      height: 32px;\n",
              "      padding: 0 0 0 0;\n",
              "      width: 32px;\n",
              "    }\n",
              "\n",
              "    .colab-df-convert:hover {\n",
              "      background-color: #E2EBFA;\n",
              "      box-shadow: 0px 1px 2px rgba(60, 64, 67, 0.3), 0px 1px 3px 1px rgba(60, 64, 67, 0.15);\n",
              "      fill: #174EA6;\n",
              "    }\n",
              "\n",
              "    [theme=dark] .colab-df-convert {\n",
              "      background-color: #3B4455;\n",
              "      fill: #D2E3FC;\n",
              "    }\n",
              "\n",
              "    [theme=dark] .colab-df-convert:hover {\n",
              "      background-color: #434B5C;\n",
              "      box-shadow: 0px 1px 3px 1px rgba(0, 0, 0, 0.15);\n",
              "      filter: drop-shadow(0px 1px 2px rgba(0, 0, 0, 0.3));\n",
              "      fill: #FFFFFF;\n",
              "    }\n",
              "  </style>\n",
              "\n",
              "      <script>\n",
              "        const buttonEl =\n",
              "          document.querySelector('#df-4aabdde3-6b07-419f-84d7-ef12fe20eaf0 button.colab-df-convert');\n",
              "        buttonEl.style.display =\n",
              "          google.colab.kernel.accessAllowed ? 'block' : 'none';\n",
              "\n",
              "        async function convertToInteractive(key) {\n",
              "          const element = document.querySelector('#df-4aabdde3-6b07-419f-84d7-ef12fe20eaf0');\n",
              "          const dataTable =\n",
              "            await google.colab.kernel.invokeFunction('convertToInteractive',\n",
              "                                                     [key], {});\n",
              "          if (!dataTable) return;\n",
              "\n",
              "          const docLinkHtml = 'Like what you see? Visit the ' +\n",
              "            '<a target=\"_blank\" href=https://colab.research.google.com/notebooks/data_table.ipynb>data table notebook</a>'\n",
              "            + ' to learn more about interactive tables.';\n",
              "          element.innerHTML = '';\n",
              "          dataTable['output_type'] = 'display_data';\n",
              "          await google.colab.output.renderOutput(dataTable, element);\n",
              "          const docLink = document.createElement('div');\n",
              "          docLink.innerHTML = docLinkHtml;\n",
              "          element.appendChild(docLink);\n",
              "        }\n",
              "      </script>\n",
              "    </div>\n",
              "  </div>\n"
            ]
          },
          "metadata": {},
          "execution_count": 16
        }
      ]
    },
    {
      "cell_type": "code",
      "source": [
        "# find atack in each year\n",
        "df_yearwise_nattacks = df.groupby('iyear')['imonth'].count().reset_index(name = 'No of attacks')\n",
        "df_yearwise_nattacks"
      ],
      "metadata": {
        "colab": {
          "base_uri": "https://localhost:8080/",
          "height": 1000
        },
        "id": "DtBEqHcyDwvs",
        "outputId": "efbab61f-4413-4b7a-eb70-cfdd12e8d16e"
      },
      "execution_count": null,
      "outputs": [
        {
          "output_type": "execute_result",
          "data": {
            "text/plain": [
              "    iyear  No of attacks\n",
              "0    1970            651\n",
              "1    1971            471\n",
              "2    1972            568\n",
              "3    1973            473\n",
              "4    1974            581\n",
              "5    1975            740\n",
              "6    1976            923\n",
              "7    1977           1319\n",
              "8    1978           1526\n",
              "9    1979           2662\n",
              "10   1980           2662\n",
              "11   1981           2586\n",
              "12   1982           2544\n",
              "13   1983           2870\n",
              "14   1984           3495\n",
              "15   1985           2915\n",
              "16   1986           2860\n",
              "17   1987           3183\n",
              "18   1988           3721\n",
              "19   1989           4324\n",
              "20   1990           3887\n",
              "21   1991           4683\n",
              "22   1992           5071\n",
              "23   1994           3456\n",
              "24   1995           3081\n",
              "25   1996           3058\n",
              "26   1997           3197\n",
              "27   1998            934\n",
              "28   1999           1395\n",
              "29   2000           1814\n",
              "30   2001           1906\n",
              "31   2002           1333\n",
              "32   2003           1278\n",
              "33   2004           1166\n",
              "34   2005           2017\n",
              "35   2006           2758\n",
              "36   2007           3242\n",
              "37   2008           4805\n",
              "38   2009           4721\n",
              "39   2010           4826\n",
              "40   2011           5076\n",
              "41   2012           8522\n",
              "42   2013          12036\n",
              "43   2014          16903\n",
              "44   2015          14965\n",
              "45   2016          13587\n",
              "46   2017          10900"
            ],
            "text/html": [
              "\n",
              "\n",
              "  <div id=\"df-2c868d20-a7d4-403e-9598-4ef34831cba8\">\n",
              "    <div class=\"colab-df-container\">\n",
              "      <div>\n",
              "<style scoped>\n",
              "    .dataframe tbody tr th:only-of-type {\n",
              "        vertical-align: middle;\n",
              "    }\n",
              "\n",
              "    .dataframe tbody tr th {\n",
              "        vertical-align: top;\n",
              "    }\n",
              "\n",
              "    .dataframe thead th {\n",
              "        text-align: right;\n",
              "    }\n",
              "</style>\n",
              "<table border=\"1\" class=\"dataframe\">\n",
              "  <thead>\n",
              "    <tr style=\"text-align: right;\">\n",
              "      <th></th>\n",
              "      <th>iyear</th>\n",
              "      <th>No of attacks</th>\n",
              "    </tr>\n",
              "  </thead>\n",
              "  <tbody>\n",
              "    <tr>\n",
              "      <th>0</th>\n",
              "      <td>1970</td>\n",
              "      <td>651</td>\n",
              "    </tr>\n",
              "    <tr>\n",
              "      <th>1</th>\n",
              "      <td>1971</td>\n",
              "      <td>471</td>\n",
              "    </tr>\n",
              "    <tr>\n",
              "      <th>2</th>\n",
              "      <td>1972</td>\n",
              "      <td>568</td>\n",
              "    </tr>\n",
              "    <tr>\n",
              "      <th>3</th>\n",
              "      <td>1973</td>\n",
              "      <td>473</td>\n",
              "    </tr>\n",
              "    <tr>\n",
              "      <th>4</th>\n",
              "      <td>1974</td>\n",
              "      <td>581</td>\n",
              "    </tr>\n",
              "    <tr>\n",
              "      <th>5</th>\n",
              "      <td>1975</td>\n",
              "      <td>740</td>\n",
              "    </tr>\n",
              "    <tr>\n",
              "      <th>6</th>\n",
              "      <td>1976</td>\n",
              "      <td>923</td>\n",
              "    </tr>\n",
              "    <tr>\n",
              "      <th>7</th>\n",
              "      <td>1977</td>\n",
              "      <td>1319</td>\n",
              "    </tr>\n",
              "    <tr>\n",
              "      <th>8</th>\n",
              "      <td>1978</td>\n",
              "      <td>1526</td>\n",
              "    </tr>\n",
              "    <tr>\n",
              "      <th>9</th>\n",
              "      <td>1979</td>\n",
              "      <td>2662</td>\n",
              "    </tr>\n",
              "    <tr>\n",
              "      <th>10</th>\n",
              "      <td>1980</td>\n",
              "      <td>2662</td>\n",
              "    </tr>\n",
              "    <tr>\n",
              "      <th>11</th>\n",
              "      <td>1981</td>\n",
              "      <td>2586</td>\n",
              "    </tr>\n",
              "    <tr>\n",
              "      <th>12</th>\n",
              "      <td>1982</td>\n",
              "      <td>2544</td>\n",
              "    </tr>\n",
              "    <tr>\n",
              "      <th>13</th>\n",
              "      <td>1983</td>\n",
              "      <td>2870</td>\n",
              "    </tr>\n",
              "    <tr>\n",
              "      <th>14</th>\n",
              "      <td>1984</td>\n",
              "      <td>3495</td>\n",
              "    </tr>\n",
              "    <tr>\n",
              "      <th>15</th>\n",
              "      <td>1985</td>\n",
              "      <td>2915</td>\n",
              "    </tr>\n",
              "    <tr>\n",
              "      <th>16</th>\n",
              "      <td>1986</td>\n",
              "      <td>2860</td>\n",
              "    </tr>\n",
              "    <tr>\n",
              "      <th>17</th>\n",
              "      <td>1987</td>\n",
              "      <td>3183</td>\n",
              "    </tr>\n",
              "    <tr>\n",
              "      <th>18</th>\n",
              "      <td>1988</td>\n",
              "      <td>3721</td>\n",
              "    </tr>\n",
              "    <tr>\n",
              "      <th>19</th>\n",
              "      <td>1989</td>\n",
              "      <td>4324</td>\n",
              "    </tr>\n",
              "    <tr>\n",
              "      <th>20</th>\n",
              "      <td>1990</td>\n",
              "      <td>3887</td>\n",
              "    </tr>\n",
              "    <tr>\n",
              "      <th>21</th>\n",
              "      <td>1991</td>\n",
              "      <td>4683</td>\n",
              "    </tr>\n",
              "    <tr>\n",
              "      <th>22</th>\n",
              "      <td>1992</td>\n",
              "      <td>5071</td>\n",
              "    </tr>\n",
              "    <tr>\n",
              "      <th>23</th>\n",
              "      <td>1994</td>\n",
              "      <td>3456</td>\n",
              "    </tr>\n",
              "    <tr>\n",
              "      <th>24</th>\n",
              "      <td>1995</td>\n",
              "      <td>3081</td>\n",
              "    </tr>\n",
              "    <tr>\n",
              "      <th>25</th>\n",
              "      <td>1996</td>\n",
              "      <td>3058</td>\n",
              "    </tr>\n",
              "    <tr>\n",
              "      <th>26</th>\n",
              "      <td>1997</td>\n",
              "      <td>3197</td>\n",
              "    </tr>\n",
              "    <tr>\n",
              "      <th>27</th>\n",
              "      <td>1998</td>\n",
              "      <td>934</td>\n",
              "    </tr>\n",
              "    <tr>\n",
              "      <th>28</th>\n",
              "      <td>1999</td>\n",
              "      <td>1395</td>\n",
              "    </tr>\n",
              "    <tr>\n",
              "      <th>29</th>\n",
              "      <td>2000</td>\n",
              "      <td>1814</td>\n",
              "    </tr>\n",
              "    <tr>\n",
              "      <th>30</th>\n",
              "      <td>2001</td>\n",
              "      <td>1906</td>\n",
              "    </tr>\n",
              "    <tr>\n",
              "      <th>31</th>\n",
              "      <td>2002</td>\n",
              "      <td>1333</td>\n",
              "    </tr>\n",
              "    <tr>\n",
              "      <th>32</th>\n",
              "      <td>2003</td>\n",
              "      <td>1278</td>\n",
              "    </tr>\n",
              "    <tr>\n",
              "      <th>33</th>\n",
              "      <td>2004</td>\n",
              "      <td>1166</td>\n",
              "    </tr>\n",
              "    <tr>\n",
              "      <th>34</th>\n",
              "      <td>2005</td>\n",
              "      <td>2017</td>\n",
              "    </tr>\n",
              "    <tr>\n",
              "      <th>35</th>\n",
              "      <td>2006</td>\n",
              "      <td>2758</td>\n",
              "    </tr>\n",
              "    <tr>\n",
              "      <th>36</th>\n",
              "      <td>2007</td>\n",
              "      <td>3242</td>\n",
              "    </tr>\n",
              "    <tr>\n",
              "      <th>37</th>\n",
              "      <td>2008</td>\n",
              "      <td>4805</td>\n",
              "    </tr>\n",
              "    <tr>\n",
              "      <th>38</th>\n",
              "      <td>2009</td>\n",
              "      <td>4721</td>\n",
              "    </tr>\n",
              "    <tr>\n",
              "      <th>39</th>\n",
              "      <td>2010</td>\n",
              "      <td>4826</td>\n",
              "    </tr>\n",
              "    <tr>\n",
              "      <th>40</th>\n",
              "      <td>2011</td>\n",
              "      <td>5076</td>\n",
              "    </tr>\n",
              "    <tr>\n",
              "      <th>41</th>\n",
              "      <td>2012</td>\n",
              "      <td>8522</td>\n",
              "    </tr>\n",
              "    <tr>\n",
              "      <th>42</th>\n",
              "      <td>2013</td>\n",
              "      <td>12036</td>\n",
              "    </tr>\n",
              "    <tr>\n",
              "      <th>43</th>\n",
              "      <td>2014</td>\n",
              "      <td>16903</td>\n",
              "    </tr>\n",
              "    <tr>\n",
              "      <th>44</th>\n",
              "      <td>2015</td>\n",
              "      <td>14965</td>\n",
              "    </tr>\n",
              "    <tr>\n",
              "      <th>45</th>\n",
              "      <td>2016</td>\n",
              "      <td>13587</td>\n",
              "    </tr>\n",
              "    <tr>\n",
              "      <th>46</th>\n",
              "      <td>2017</td>\n",
              "      <td>10900</td>\n",
              "    </tr>\n",
              "  </tbody>\n",
              "</table>\n",
              "</div>\n",
              "      <button class=\"colab-df-convert\" onclick=\"convertToInteractive('df-2c868d20-a7d4-403e-9598-4ef34831cba8')\"\n",
              "              title=\"Convert this dataframe to an interactive table.\"\n",
              "              style=\"display:none;\">\n",
              "\n",
              "  <svg xmlns=\"http://www.w3.org/2000/svg\" height=\"24px\"viewBox=\"0 0 24 24\"\n",
              "       width=\"24px\">\n",
              "    <path d=\"M0 0h24v24H0V0z\" fill=\"none\"/>\n",
              "    <path d=\"M18.56 5.44l.94 2.06.94-2.06 2.06-.94-2.06-.94-.94-2.06-.94 2.06-2.06.94zm-11 1L8.5 8.5l.94-2.06 2.06-.94-2.06-.94L8.5 2.5l-.94 2.06-2.06.94zm10 10l.94 2.06.94-2.06 2.06-.94-2.06-.94-.94-2.06-.94 2.06-2.06.94z\"/><path d=\"M17.41 7.96l-1.37-1.37c-.4-.4-.92-.59-1.43-.59-.52 0-1.04.2-1.43.59L10.3 9.45l-7.72 7.72c-.78.78-.78 2.05 0 2.83L4 21.41c.39.39.9.59 1.41.59.51 0 1.02-.2 1.41-.59l7.78-7.78 2.81-2.81c.8-.78.8-2.07 0-2.86zM5.41 20L4 18.59l7.72-7.72 1.47 1.35L5.41 20z\"/>\n",
              "  </svg>\n",
              "      </button>\n",
              "\n",
              "\n",
              "\n",
              "    <div id=\"df-de57513e-f0d2-410e-947a-807b39bd7abb\">\n",
              "      <button class=\"colab-df-quickchart\" onclick=\"quickchart('df-de57513e-f0d2-410e-947a-807b39bd7abb')\"\n",
              "              title=\"Suggest charts.\"\n",
              "              style=\"display:none;\">\n",
              "\n",
              "<svg xmlns=\"http://www.w3.org/2000/svg\" height=\"24px\"viewBox=\"0 0 24 24\"\n",
              "     width=\"24px\">\n",
              "    <g>\n",
              "        <path d=\"M19 3H5c-1.1 0-2 .9-2 2v14c0 1.1.9 2 2 2h14c1.1 0 2-.9 2-2V5c0-1.1-.9-2-2-2zM9 17H7v-7h2v7zm4 0h-2V7h2v10zm4 0h-2v-4h2v4z\"/>\n",
              "    </g>\n",
              "</svg>\n",
              "      </button>\n",
              "    </div>\n",
              "\n",
              "<style>\n",
              "  .colab-df-quickchart {\n",
              "    background-color: #E8F0FE;\n",
              "    border: none;\n",
              "    border-radius: 50%;\n",
              "    cursor: pointer;\n",
              "    display: none;\n",
              "    fill: #1967D2;\n",
              "    height: 32px;\n",
              "    padding: 0 0 0 0;\n",
              "    width: 32px;\n",
              "  }\n",
              "\n",
              "  .colab-df-quickchart:hover {\n",
              "    background-color: #E2EBFA;\n",
              "    box-shadow: 0px 1px 2px rgba(60, 64, 67, 0.3), 0px 1px 3px 1px rgba(60, 64, 67, 0.15);\n",
              "    fill: #174EA6;\n",
              "  }\n",
              "\n",
              "  [theme=dark] .colab-df-quickchart {\n",
              "    background-color: #3B4455;\n",
              "    fill: #D2E3FC;\n",
              "  }\n",
              "\n",
              "  [theme=dark] .colab-df-quickchart:hover {\n",
              "    background-color: #434B5C;\n",
              "    box-shadow: 0px 1px 3px 1px rgba(0, 0, 0, 0.15);\n",
              "    filter: drop-shadow(0px 1px 2px rgba(0, 0, 0, 0.3));\n",
              "    fill: #FFFFFF;\n",
              "  }\n",
              "</style>\n",
              "\n",
              "    <script>\n",
              "      async function quickchart(key) {\n",
              "        const containerElement = document.querySelector('#' + key);\n",
              "        const charts = await google.colab.kernel.invokeFunction(\n",
              "            'suggestCharts', [key], {});\n",
              "      }\n",
              "    </script>\n",
              "\n",
              "      <script>\n",
              "\n",
              "function displayQuickchartButton(domScope) {\n",
              "  let quickchartButtonEl =\n",
              "    domScope.querySelector('#df-de57513e-f0d2-410e-947a-807b39bd7abb button.colab-df-quickchart');\n",
              "  quickchartButtonEl.style.display =\n",
              "    google.colab.kernel.accessAllowed ? 'block' : 'none';\n",
              "}\n",
              "\n",
              "        displayQuickchartButton(document);\n",
              "      </script>\n",
              "      <style>\n",
              "    .colab-df-container {\n",
              "      display:flex;\n",
              "      flex-wrap:wrap;\n",
              "      gap: 12px;\n",
              "    }\n",
              "\n",
              "    .colab-df-convert {\n",
              "      background-color: #E8F0FE;\n",
              "      border: none;\n",
              "      border-radius: 50%;\n",
              "      cursor: pointer;\n",
              "      display: none;\n",
              "      fill: #1967D2;\n",
              "      height: 32px;\n",
              "      padding: 0 0 0 0;\n",
              "      width: 32px;\n",
              "    }\n",
              "\n",
              "    .colab-df-convert:hover {\n",
              "      background-color: #E2EBFA;\n",
              "      box-shadow: 0px 1px 2px rgba(60, 64, 67, 0.3), 0px 1px 3px 1px rgba(60, 64, 67, 0.15);\n",
              "      fill: #174EA6;\n",
              "    }\n",
              "\n",
              "    [theme=dark] .colab-df-convert {\n",
              "      background-color: #3B4455;\n",
              "      fill: #D2E3FC;\n",
              "    }\n",
              "\n",
              "    [theme=dark] .colab-df-convert:hover {\n",
              "      background-color: #434B5C;\n",
              "      box-shadow: 0px 1px 3px 1px rgba(0, 0, 0, 0.15);\n",
              "      filter: drop-shadow(0px 1px 2px rgba(0, 0, 0, 0.3));\n",
              "      fill: #FFFFFF;\n",
              "    }\n",
              "  </style>\n",
              "\n",
              "      <script>\n",
              "        const buttonEl =\n",
              "          document.querySelector('#df-2c868d20-a7d4-403e-9598-4ef34831cba8 button.colab-df-convert');\n",
              "        buttonEl.style.display =\n",
              "          google.colab.kernel.accessAllowed ? 'block' : 'none';\n",
              "\n",
              "        async function convertToInteractive(key) {\n",
              "          const element = document.querySelector('#df-2c868d20-a7d4-403e-9598-4ef34831cba8');\n",
              "          const dataTable =\n",
              "            await google.colab.kernel.invokeFunction('convertToInteractive',\n",
              "                                                     [key], {});\n",
              "          if (!dataTable) return;\n",
              "\n",
              "          const docLinkHtml = 'Like what you see? Visit the ' +\n",
              "            '<a target=\"_blank\" href=https://colab.research.google.com/notebooks/data_table.ipynb>data table notebook</a>'\n",
              "            + ' to learn more about interactive tables.';\n",
              "          element.innerHTML = '';\n",
              "          dataTable['output_type'] = 'display_data';\n",
              "          await google.colab.output.renderOutput(dataTable, element);\n",
              "          const docLink = document.createElement('div');\n",
              "          docLink.innerHTML = docLinkHtml;\n",
              "          element.appendChild(docLink);\n",
              "        }\n",
              "      </script>\n",
              "    </div>\n",
              "  </div>\n"
            ]
          },
          "metadata": {},
          "execution_count": 17
        }
      ]
    },
    {
      "cell_type": "code",
      "source": [
        "# find number of successful attacks\n",
        "df_successful_nattacks = df['success'].value_counts()\n",
        "df_successful_nattacks"
      ],
      "metadata": {
        "colab": {
          "base_uri": "https://localhost:8080/"
        },
        "id": "ZoGzl9bqD4Po",
        "outputId": "c63a27f3-e03a-4c0a-c085-36863e1f6891"
      },
      "execution_count": null,
      "outputs": [
        {
          "output_type": "execute_result",
          "data": {
            "text/plain": [
              "1    161632\n",
              "0     20059\n",
              "Name: success, dtype: int64"
            ]
          },
          "metadata": {},
          "execution_count": 18
        }
      ]
    },
    {
      "cell_type": "code",
      "source": [
        "# find number of attacks on each target\n",
        "df_target_props = df['targtype1_txt'].value_counts().reset_index(name = 'Num of attacks')\n",
        "df_target_props"
      ],
      "metadata": {
        "colab": {
          "base_uri": "https://localhost:8080/",
          "height": 739
        },
        "id": "fPA-pM54D_oR",
        "outputId": "2a87e37b-f7b9-47e9-b008-d8414bb1aa76"
      },
      "execution_count": null,
      "outputs": [
        {
          "output_type": "execute_result",
          "data": {
            "text/plain": [
              "                             index  Num of attacks\n",
              "0      Private Citizens & Property           43511\n",
              "1                         Military           27984\n",
              "2                           Police           24506\n",
              "3             Government (General)           21283\n",
              "4                         Business           20669\n",
              "5                   Transportation            6799\n",
              "6                        Utilities            6023\n",
              "7                          Unknown            5898\n",
              "8   Religious Figures/Institutions            4440\n",
              "9          Educational Institution            4322\n",
              "10         Government (Diplomatic)            3573\n",
              "11    Terrorists/Non-State Militia            3039\n",
              "12             Journalists & Media            2948\n",
              "13         Violent Political Party            1866\n",
              "14             Airports & Aircraft            1343\n",
              "15               Telecommunication            1009\n",
              "16                             NGO             970\n",
              "17                        Tourists             440\n",
              "18                        Maritime             351\n",
              "19            Food or Water Supply             317\n",
              "20                Abortion Related             263\n",
              "21                           Other             137"
            ],
            "text/html": [
              "\n",
              "\n",
              "  <div id=\"df-e965f613-3299-4d04-be4d-c34e9a87d0c5\">\n",
              "    <div class=\"colab-df-container\">\n",
              "      <div>\n",
              "<style scoped>\n",
              "    .dataframe tbody tr th:only-of-type {\n",
              "        vertical-align: middle;\n",
              "    }\n",
              "\n",
              "    .dataframe tbody tr th {\n",
              "        vertical-align: top;\n",
              "    }\n",
              "\n",
              "    .dataframe thead th {\n",
              "        text-align: right;\n",
              "    }\n",
              "</style>\n",
              "<table border=\"1\" class=\"dataframe\">\n",
              "  <thead>\n",
              "    <tr style=\"text-align: right;\">\n",
              "      <th></th>\n",
              "      <th>index</th>\n",
              "      <th>Num of attacks</th>\n",
              "    </tr>\n",
              "  </thead>\n",
              "  <tbody>\n",
              "    <tr>\n",
              "      <th>0</th>\n",
              "      <td>Private Citizens &amp; Property</td>\n",
              "      <td>43511</td>\n",
              "    </tr>\n",
              "    <tr>\n",
              "      <th>1</th>\n",
              "      <td>Military</td>\n",
              "      <td>27984</td>\n",
              "    </tr>\n",
              "    <tr>\n",
              "      <th>2</th>\n",
              "      <td>Police</td>\n",
              "      <td>24506</td>\n",
              "    </tr>\n",
              "    <tr>\n",
              "      <th>3</th>\n",
              "      <td>Government (General)</td>\n",
              "      <td>21283</td>\n",
              "    </tr>\n",
              "    <tr>\n",
              "      <th>4</th>\n",
              "      <td>Business</td>\n",
              "      <td>20669</td>\n",
              "    </tr>\n",
              "    <tr>\n",
              "      <th>5</th>\n",
              "      <td>Transportation</td>\n",
              "      <td>6799</td>\n",
              "    </tr>\n",
              "    <tr>\n",
              "      <th>6</th>\n",
              "      <td>Utilities</td>\n",
              "      <td>6023</td>\n",
              "    </tr>\n",
              "    <tr>\n",
              "      <th>7</th>\n",
              "      <td>Unknown</td>\n",
              "      <td>5898</td>\n",
              "    </tr>\n",
              "    <tr>\n",
              "      <th>8</th>\n",
              "      <td>Religious Figures/Institutions</td>\n",
              "      <td>4440</td>\n",
              "    </tr>\n",
              "    <tr>\n",
              "      <th>9</th>\n",
              "      <td>Educational Institution</td>\n",
              "      <td>4322</td>\n",
              "    </tr>\n",
              "    <tr>\n",
              "      <th>10</th>\n",
              "      <td>Government (Diplomatic)</td>\n",
              "      <td>3573</td>\n",
              "    </tr>\n",
              "    <tr>\n",
              "      <th>11</th>\n",
              "      <td>Terrorists/Non-State Militia</td>\n",
              "      <td>3039</td>\n",
              "    </tr>\n",
              "    <tr>\n",
              "      <th>12</th>\n",
              "      <td>Journalists &amp; Media</td>\n",
              "      <td>2948</td>\n",
              "    </tr>\n",
              "    <tr>\n",
              "      <th>13</th>\n",
              "      <td>Violent Political Party</td>\n",
              "      <td>1866</td>\n",
              "    </tr>\n",
              "    <tr>\n",
              "      <th>14</th>\n",
              "      <td>Airports &amp; Aircraft</td>\n",
              "      <td>1343</td>\n",
              "    </tr>\n",
              "    <tr>\n",
              "      <th>15</th>\n",
              "      <td>Telecommunication</td>\n",
              "      <td>1009</td>\n",
              "    </tr>\n",
              "    <tr>\n",
              "      <th>16</th>\n",
              "      <td>NGO</td>\n",
              "      <td>970</td>\n",
              "    </tr>\n",
              "    <tr>\n",
              "      <th>17</th>\n",
              "      <td>Tourists</td>\n",
              "      <td>440</td>\n",
              "    </tr>\n",
              "    <tr>\n",
              "      <th>18</th>\n",
              "      <td>Maritime</td>\n",
              "      <td>351</td>\n",
              "    </tr>\n",
              "    <tr>\n",
              "      <th>19</th>\n",
              "      <td>Food or Water Supply</td>\n",
              "      <td>317</td>\n",
              "    </tr>\n",
              "    <tr>\n",
              "      <th>20</th>\n",
              "      <td>Abortion Related</td>\n",
              "      <td>263</td>\n",
              "    </tr>\n",
              "    <tr>\n",
              "      <th>21</th>\n",
              "      <td>Other</td>\n",
              "      <td>137</td>\n",
              "    </tr>\n",
              "  </tbody>\n",
              "</table>\n",
              "</div>\n",
              "      <button class=\"colab-df-convert\" onclick=\"convertToInteractive('df-e965f613-3299-4d04-be4d-c34e9a87d0c5')\"\n",
              "              title=\"Convert this dataframe to an interactive table.\"\n",
              "              style=\"display:none;\">\n",
              "\n",
              "  <svg xmlns=\"http://www.w3.org/2000/svg\" height=\"24px\"viewBox=\"0 0 24 24\"\n",
              "       width=\"24px\">\n",
              "    <path d=\"M0 0h24v24H0V0z\" fill=\"none\"/>\n",
              "    <path d=\"M18.56 5.44l.94 2.06.94-2.06 2.06-.94-2.06-.94-.94-2.06-.94 2.06-2.06.94zm-11 1L8.5 8.5l.94-2.06 2.06-.94-2.06-.94L8.5 2.5l-.94 2.06-2.06.94zm10 10l.94 2.06.94-2.06 2.06-.94-2.06-.94-.94-2.06-.94 2.06-2.06.94z\"/><path d=\"M17.41 7.96l-1.37-1.37c-.4-.4-.92-.59-1.43-.59-.52 0-1.04.2-1.43.59L10.3 9.45l-7.72 7.72c-.78.78-.78 2.05 0 2.83L4 21.41c.39.39.9.59 1.41.59.51 0 1.02-.2 1.41-.59l7.78-7.78 2.81-2.81c.8-.78.8-2.07 0-2.86zM5.41 20L4 18.59l7.72-7.72 1.47 1.35L5.41 20z\"/>\n",
              "  </svg>\n",
              "      </button>\n",
              "\n",
              "\n",
              "\n",
              "    <div id=\"df-ba67c30c-88d5-4914-a6cc-7a3641e05032\">\n",
              "      <button class=\"colab-df-quickchart\" onclick=\"quickchart('df-ba67c30c-88d5-4914-a6cc-7a3641e05032')\"\n",
              "              title=\"Suggest charts.\"\n",
              "              style=\"display:none;\">\n",
              "\n",
              "<svg xmlns=\"http://www.w3.org/2000/svg\" height=\"24px\"viewBox=\"0 0 24 24\"\n",
              "     width=\"24px\">\n",
              "    <g>\n",
              "        <path d=\"M19 3H5c-1.1 0-2 .9-2 2v14c0 1.1.9 2 2 2h14c1.1 0 2-.9 2-2V5c0-1.1-.9-2-2-2zM9 17H7v-7h2v7zm4 0h-2V7h2v10zm4 0h-2v-4h2v4z\"/>\n",
              "    </g>\n",
              "</svg>\n",
              "      </button>\n",
              "    </div>\n",
              "\n",
              "<style>\n",
              "  .colab-df-quickchart {\n",
              "    background-color: #E8F0FE;\n",
              "    border: none;\n",
              "    border-radius: 50%;\n",
              "    cursor: pointer;\n",
              "    display: none;\n",
              "    fill: #1967D2;\n",
              "    height: 32px;\n",
              "    padding: 0 0 0 0;\n",
              "    width: 32px;\n",
              "  }\n",
              "\n",
              "  .colab-df-quickchart:hover {\n",
              "    background-color: #E2EBFA;\n",
              "    box-shadow: 0px 1px 2px rgba(60, 64, 67, 0.3), 0px 1px 3px 1px rgba(60, 64, 67, 0.15);\n",
              "    fill: #174EA6;\n",
              "  }\n",
              "\n",
              "  [theme=dark] .colab-df-quickchart {\n",
              "    background-color: #3B4455;\n",
              "    fill: #D2E3FC;\n",
              "  }\n",
              "\n",
              "  [theme=dark] .colab-df-quickchart:hover {\n",
              "    background-color: #434B5C;\n",
              "    box-shadow: 0px 1px 3px 1px rgba(0, 0, 0, 0.15);\n",
              "    filter: drop-shadow(0px 1px 2px rgba(0, 0, 0, 0.3));\n",
              "    fill: #FFFFFF;\n",
              "  }\n",
              "</style>\n",
              "\n",
              "    <script>\n",
              "      async function quickchart(key) {\n",
              "        const containerElement = document.querySelector('#' + key);\n",
              "        const charts = await google.colab.kernel.invokeFunction(\n",
              "            'suggestCharts', [key], {});\n",
              "      }\n",
              "    </script>\n",
              "\n",
              "      <script>\n",
              "\n",
              "function displayQuickchartButton(domScope) {\n",
              "  let quickchartButtonEl =\n",
              "    domScope.querySelector('#df-ba67c30c-88d5-4914-a6cc-7a3641e05032 button.colab-df-quickchart');\n",
              "  quickchartButtonEl.style.display =\n",
              "    google.colab.kernel.accessAllowed ? 'block' : 'none';\n",
              "}\n",
              "\n",
              "        displayQuickchartButton(document);\n",
              "      </script>\n",
              "      <style>\n",
              "    .colab-df-container {\n",
              "      display:flex;\n",
              "      flex-wrap:wrap;\n",
              "      gap: 12px;\n",
              "    }\n",
              "\n",
              "    .colab-df-convert {\n",
              "      background-color: #E8F0FE;\n",
              "      border: none;\n",
              "      border-radius: 50%;\n",
              "      cursor: pointer;\n",
              "      display: none;\n",
              "      fill: #1967D2;\n",
              "      height: 32px;\n",
              "      padding: 0 0 0 0;\n",
              "      width: 32px;\n",
              "    }\n",
              "\n",
              "    .colab-df-convert:hover {\n",
              "      background-color: #E2EBFA;\n",
              "      box-shadow: 0px 1px 2px rgba(60, 64, 67, 0.3), 0px 1px 3px 1px rgba(60, 64, 67, 0.15);\n",
              "      fill: #174EA6;\n",
              "    }\n",
              "\n",
              "    [theme=dark] .colab-df-convert {\n",
              "      background-color: #3B4455;\n",
              "      fill: #D2E3FC;\n",
              "    }\n",
              "\n",
              "    [theme=dark] .colab-df-convert:hover {\n",
              "      background-color: #434B5C;\n",
              "      box-shadow: 0px 1px 3px 1px rgba(0, 0, 0, 0.15);\n",
              "      filter: drop-shadow(0px 1px 2px rgba(0, 0, 0, 0.3));\n",
              "      fill: #FFFFFF;\n",
              "    }\n",
              "  </style>\n",
              "\n",
              "      <script>\n",
              "        const buttonEl =\n",
              "          document.querySelector('#df-e965f613-3299-4d04-be4d-c34e9a87d0c5 button.colab-df-convert');\n",
              "        buttonEl.style.display =\n",
              "          google.colab.kernel.accessAllowed ? 'block' : 'none';\n",
              "\n",
              "        async function convertToInteractive(key) {\n",
              "          const element = document.querySelector('#df-e965f613-3299-4d04-be4d-c34e9a87d0c5');\n",
              "          const dataTable =\n",
              "            await google.colab.kernel.invokeFunction('convertToInteractive',\n",
              "                                                     [key], {});\n",
              "          if (!dataTable) return;\n",
              "\n",
              "          const docLinkHtml = 'Like what you see? Visit the ' +\n",
              "            '<a target=\"_blank\" href=https://colab.research.google.com/notebooks/data_table.ipynb>data table notebook</a>'\n",
              "            + ' to learn more about interactive tables.';\n",
              "          element.innerHTML = '';\n",
              "          dataTable['output_type'] = 'display_data';\n",
              "          await google.colab.output.renderOutput(dataTable, element);\n",
              "          const docLink = document.createElement('div');\n",
              "          docLink.innerHTML = docLinkHtml;\n",
              "          element.appendChild(docLink);\n",
              "        }\n",
              "      </script>\n",
              "    </div>\n",
              "  </div>\n"
            ]
          },
          "metadata": {},
          "execution_count": 19
        }
      ]
    },
    {
      "cell_type": "code",
      "source": [
        "# total number of killed victims\n",
        "num_kill = df.nkill.sum()\n",
        "num_kill"
      ],
      "metadata": {
        "colab": {
          "base_uri": "https://localhost:8080/"
        },
        "id": "kPOw6kfjEa4R",
        "outputId": "730f754a-f222-47e6-cc21-a0a9743361f4"
      },
      "execution_count": null,
      "outputs": [
        {
          "output_type": "execute_result",
          "data": {
            "text/plain": [
              "411868.0"
            ]
          },
          "metadata": {},
          "execution_count": 20
        }
      ]
    },
    {
      "cell_type": "code",
      "source": [
        "# total ransom amount given to terrorist\n",
        "total_ransom_amount = df.ransomamt.sum()\n",
        "total_ransom_amount"
      ],
      "metadata": {
        "colab": {
          "base_uri": "https://localhost:8080/"
        },
        "id": "NG36kXmiEkwD",
        "outputId": "22e53304-3cca-4d19-9710-3eb63b58cf69"
      },
      "execution_count": null,
      "outputs": [
        {
          "output_type": "execute_result",
          "data": {
            "text/plain": [
              "4282915347.6899986"
            ]
          },
          "metadata": {},
          "execution_count": 21
        }
      ]
    },
    {
      "cell_type": "code",
      "source": [
        "# no of resoluted cases\n",
        "no_r, resoluted = 0, 0\n",
        "for x in df.resolution:\n",
        "  if x == 'no resolution':\n",
        "    no_r +=1\n",
        "  else:\n",
        "    resoluted +=1\n",
        "\n",
        "print(no_r, resoluted)"
      ],
      "metadata": {
        "colab": {
          "base_uri": "https://localhost:8080/"
        },
        "id": "ajbq-zHkEuEo",
        "outputId": "0009816a-2d63-48bf-e490-055c19460125"
      },
      "execution_count": null,
      "outputs": [
        {
          "output_type": "stream",
          "name": "stdout",
          "text": [
            "179471 2220\n"
          ]
        }
      ]
    },
    {
      "cell_type": "code",
      "source": [
        "# number of extended attacks\n",
        "num_extended_attacks = df.extended.value_counts()\n",
        "num_extended_attacks"
      ],
      "metadata": {
        "colab": {
          "base_uri": "https://localhost:8080/"
        },
        "id": "ZaRPgAJLF1DU",
        "outputId": "48115b21-0650-467e-b639-c498d03d5365"
      },
      "execution_count": null,
      "outputs": [
        {
          "output_type": "execute_result",
          "data": {
            "text/plain": [
              "0    173452\n",
              "1      8239\n",
              "Name: extended, dtype: int64"
            ]
          },
          "metadata": {},
          "execution_count": 23
        }
      ]
    },
    {
      "cell_type": "code",
      "source": [
        "# number of killed people during extended attacks\n",
        "df_ext_kills = df.groupby('extended')['nkill'].sum().reset_index(name = 'no of kills')\n",
        "df_ext_kills"
      ],
      "metadata": {
        "colab": {
          "base_uri": "https://localhost:8080/",
          "height": 112
        },
        "id": "bX6ZPZsRF7WN",
        "outputId": "97309da5-957b-483f-bd53-3a557b6bec37"
      },
      "execution_count": null,
      "outputs": [
        {
          "output_type": "execute_result",
          "data": {
            "text/plain": [
              "   extended  no of kills\n",
              "0         0     387001.0\n",
              "1         1      24867.0"
            ],
            "text/html": [
              "\n",
              "\n",
              "  <div id=\"df-79b23745-c885-4d2d-bf0d-14c1fadcf93c\">\n",
              "    <div class=\"colab-df-container\">\n",
              "      <div>\n",
              "<style scoped>\n",
              "    .dataframe tbody tr th:only-of-type {\n",
              "        vertical-align: middle;\n",
              "    }\n",
              "\n",
              "    .dataframe tbody tr th {\n",
              "        vertical-align: top;\n",
              "    }\n",
              "\n",
              "    .dataframe thead th {\n",
              "        text-align: right;\n",
              "    }\n",
              "</style>\n",
              "<table border=\"1\" class=\"dataframe\">\n",
              "  <thead>\n",
              "    <tr style=\"text-align: right;\">\n",
              "      <th></th>\n",
              "      <th>extended</th>\n",
              "      <th>no of kills</th>\n",
              "    </tr>\n",
              "  </thead>\n",
              "  <tbody>\n",
              "    <tr>\n",
              "      <th>0</th>\n",
              "      <td>0</td>\n",
              "      <td>387001.0</td>\n",
              "    </tr>\n",
              "    <tr>\n",
              "      <th>1</th>\n",
              "      <td>1</td>\n",
              "      <td>24867.0</td>\n",
              "    </tr>\n",
              "  </tbody>\n",
              "</table>\n",
              "</div>\n",
              "      <button class=\"colab-df-convert\" onclick=\"convertToInteractive('df-79b23745-c885-4d2d-bf0d-14c1fadcf93c')\"\n",
              "              title=\"Convert this dataframe to an interactive table.\"\n",
              "              style=\"display:none;\">\n",
              "\n",
              "  <svg xmlns=\"http://www.w3.org/2000/svg\" height=\"24px\"viewBox=\"0 0 24 24\"\n",
              "       width=\"24px\">\n",
              "    <path d=\"M0 0h24v24H0V0z\" fill=\"none\"/>\n",
              "    <path d=\"M18.56 5.44l.94 2.06.94-2.06 2.06-.94-2.06-.94-.94-2.06-.94 2.06-2.06.94zm-11 1L8.5 8.5l.94-2.06 2.06-.94-2.06-.94L8.5 2.5l-.94 2.06-2.06.94zm10 10l.94 2.06.94-2.06 2.06-.94-2.06-.94-.94-2.06-.94 2.06-2.06.94z\"/><path d=\"M17.41 7.96l-1.37-1.37c-.4-.4-.92-.59-1.43-.59-.52 0-1.04.2-1.43.59L10.3 9.45l-7.72 7.72c-.78.78-.78 2.05 0 2.83L4 21.41c.39.39.9.59 1.41.59.51 0 1.02-.2 1.41-.59l7.78-7.78 2.81-2.81c.8-.78.8-2.07 0-2.86zM5.41 20L4 18.59l7.72-7.72 1.47 1.35L5.41 20z\"/>\n",
              "  </svg>\n",
              "      </button>\n",
              "\n",
              "\n",
              "\n",
              "    <div id=\"df-88c405bc-2cf8-4877-bf37-051aad4c7397\">\n",
              "      <button class=\"colab-df-quickchart\" onclick=\"quickchart('df-88c405bc-2cf8-4877-bf37-051aad4c7397')\"\n",
              "              title=\"Suggest charts.\"\n",
              "              style=\"display:none;\">\n",
              "\n",
              "<svg xmlns=\"http://www.w3.org/2000/svg\" height=\"24px\"viewBox=\"0 0 24 24\"\n",
              "     width=\"24px\">\n",
              "    <g>\n",
              "        <path d=\"M19 3H5c-1.1 0-2 .9-2 2v14c0 1.1.9 2 2 2h14c1.1 0 2-.9 2-2V5c0-1.1-.9-2-2-2zM9 17H7v-7h2v7zm4 0h-2V7h2v10zm4 0h-2v-4h2v4z\"/>\n",
              "    </g>\n",
              "</svg>\n",
              "      </button>\n",
              "    </div>\n",
              "\n",
              "<style>\n",
              "  .colab-df-quickchart {\n",
              "    background-color: #E8F0FE;\n",
              "    border: none;\n",
              "    border-radius: 50%;\n",
              "    cursor: pointer;\n",
              "    display: none;\n",
              "    fill: #1967D2;\n",
              "    height: 32px;\n",
              "    padding: 0 0 0 0;\n",
              "    width: 32px;\n",
              "  }\n",
              "\n",
              "  .colab-df-quickchart:hover {\n",
              "    background-color: #E2EBFA;\n",
              "    box-shadow: 0px 1px 2px rgba(60, 64, 67, 0.3), 0px 1px 3px 1px rgba(60, 64, 67, 0.15);\n",
              "    fill: #174EA6;\n",
              "  }\n",
              "\n",
              "  [theme=dark] .colab-df-quickchart {\n",
              "    background-color: #3B4455;\n",
              "    fill: #D2E3FC;\n",
              "  }\n",
              "\n",
              "  [theme=dark] .colab-df-quickchart:hover {\n",
              "    background-color: #434B5C;\n",
              "    box-shadow: 0px 1px 3px 1px rgba(0, 0, 0, 0.15);\n",
              "    filter: drop-shadow(0px 1px 2px rgba(0, 0, 0, 0.3));\n",
              "    fill: #FFFFFF;\n",
              "  }\n",
              "</style>\n",
              "\n",
              "    <script>\n",
              "      async function quickchart(key) {\n",
              "        const containerElement = document.querySelector('#' + key);\n",
              "        const charts = await google.colab.kernel.invokeFunction(\n",
              "            'suggestCharts', [key], {});\n",
              "      }\n",
              "    </script>\n",
              "\n",
              "      <script>\n",
              "\n",
              "function displayQuickchartButton(domScope) {\n",
              "  let quickchartButtonEl =\n",
              "    domScope.querySelector('#df-88c405bc-2cf8-4877-bf37-051aad4c7397 button.colab-df-quickchart');\n",
              "  quickchartButtonEl.style.display =\n",
              "    google.colab.kernel.accessAllowed ? 'block' : 'none';\n",
              "}\n",
              "\n",
              "        displayQuickchartButton(document);\n",
              "      </script>\n",
              "      <style>\n",
              "    .colab-df-container {\n",
              "      display:flex;\n",
              "      flex-wrap:wrap;\n",
              "      gap: 12px;\n",
              "    }\n",
              "\n",
              "    .colab-df-convert {\n",
              "      background-color: #E8F0FE;\n",
              "      border: none;\n",
              "      border-radius: 50%;\n",
              "      cursor: pointer;\n",
              "      display: none;\n",
              "      fill: #1967D2;\n",
              "      height: 32px;\n",
              "      padding: 0 0 0 0;\n",
              "      width: 32px;\n",
              "    }\n",
              "\n",
              "    .colab-df-convert:hover {\n",
              "      background-color: #E2EBFA;\n",
              "      box-shadow: 0px 1px 2px rgba(60, 64, 67, 0.3), 0px 1px 3px 1px rgba(60, 64, 67, 0.15);\n",
              "      fill: #174EA6;\n",
              "    }\n",
              "\n",
              "    [theme=dark] .colab-df-convert {\n",
              "      background-color: #3B4455;\n",
              "      fill: #D2E3FC;\n",
              "    }\n",
              "\n",
              "    [theme=dark] .colab-df-convert:hover {\n",
              "      background-color: #434B5C;\n",
              "      box-shadow: 0px 1px 3px 1px rgba(0, 0, 0, 0.15);\n",
              "      filter: drop-shadow(0px 1px 2px rgba(0, 0, 0, 0.3));\n",
              "      fill: #FFFFFF;\n",
              "    }\n",
              "  </style>\n",
              "\n",
              "      <script>\n",
              "        const buttonEl =\n",
              "          document.querySelector('#df-79b23745-c885-4d2d-bf0d-14c1fadcf93c button.colab-df-convert');\n",
              "        buttonEl.style.display =\n",
              "          google.colab.kernel.accessAllowed ? 'block' : 'none';\n",
              "\n",
              "        async function convertToInteractive(key) {\n",
              "          const element = document.querySelector('#df-79b23745-c885-4d2d-bf0d-14c1fadcf93c');\n",
              "          const dataTable =\n",
              "            await google.colab.kernel.invokeFunction('convertToInteractive',\n",
              "                                                     [key], {});\n",
              "          if (!dataTable) return;\n",
              "\n",
              "          const docLinkHtml = 'Like what you see? Visit the ' +\n",
              "            '<a target=\"_blank\" href=https://colab.research.google.com/notebooks/data_table.ipynb>data table notebook</a>'\n",
              "            + ' to learn more about interactive tables.';\n",
              "          element.innerHTML = '';\n",
              "          dataTable['output_type'] = 'display_data';\n",
              "          await google.colab.output.renderOutput(dataTable, element);\n",
              "          const docLink = document.createElement('div');\n",
              "          docLink.innerHTML = docLinkHtml;\n",
              "          element.appendChild(docLink);\n",
              "        }\n",
              "      </script>\n",
              "    </div>\n",
              "  </div>\n"
            ]
          },
          "metadata": {},
          "execution_count": 24
        }
      ]
    },
    {
      "cell_type": "code",
      "source": [
        "# when the fate is unknown for the hostages the data put is -99. To solve that issue I'm using .apply method to sum up the cases of unknown fate as 0.0000001.\n",
        "# thus in output the number before the decimal point will give number of released hotsages & the number after decimal point will give number of unknown fated victim/victim group\n",
        "df['nreleased_new'] = df.nreleased.apply(lambda x : x if x >=0 else 0.0000001 if x < 0 else np.nan)\n",
        "df.nreleased_new.sum()"
      ],
      "metadata": {
        "colab": {
          "base_uri": "https://localhost:8080/"
        },
        "id": "YWzt65BeGJU-",
        "outputId": "35139c9c-d261-4dc5-a195-b3183fb3595a"
      },
      "execution_count": null,
      "outputs": [
        {
          "output_type": "execute_result",
          "data": {
            "text/plain": [
              "50749.0003561"
            ]
          },
          "metadata": {},
          "execution_count": 25
        }
      ]
    },
    {
      "cell_type": "markdown",
      "source": [
        "Thus number of released hostages = 50749\n",
        "number of unknown fated victim/victim groups = 3561"
      ],
      "metadata": {
        "id": "wFjD79_FH5f-"
      }
    },
    {
      "cell_type": "code",
      "source": [
        "# putting above values as variables\n",
        "n_realeased = 50749\n",
        "nunknown_fate = 3561\n",
        "\n",
        "# number of linked attacks\n",
        "df_linked_attacks = df.multiple.value_counts()\n",
        "df_linked_attacks"
      ],
      "metadata": {
        "colab": {
          "base_uri": "https://localhost:8080/"
        },
        "id": "QEhZ39CeIQHe",
        "outputId": "1bb6591a-074a-4ba1-9a96-bfeae7ea54f2"
      },
      "execution_count": null,
      "outputs": [
        {
          "output_type": "execute_result",
          "data": {
            "text/plain": [
              "0.0    156658\n",
              "1.0     25032\n",
              "Name: multiple, dtype: int64"
            ]
          },
          "metadata": {},
          "execution_count": 26
        }
      ]
    },
    {
      "cell_type": "code",
      "source": [
        "# to find common/more than 1 criteria inclusion I'm using for loop with if condition in max row range\n",
        "# each new column is made by appending values in corresponding list at each condition\n",
        "# after the loop each list is assigned to new columns to create data entries\n",
        "\n",
        "# df_123 for all criteria had met, df_12 for criteria 1 & 2 had met & same for df_23, df_13. df_only_1 means only criteria 1 has met, same explanation goes for df_only_2, df_only_3\n",
        "df_123, df_12, df_23, df_13 = [], [], [], []\n",
        "df_only_1, df_only_2, df_only_3 = [], [], []\n",
        "\n",
        "for i in range(0, len(df.crit1)):\n",
        "    if df.crit1[i] == 1 and df.crit1[i] == df.crit2[i] and df.crit2[i] == df.crit3[i]:\n",
        "        df_123.append(1)\n",
        "        df_12.append(0)\n",
        "        df_23.append(0)\n",
        "        df_13.append(0)\n",
        "        df_only_1.append(0)\n",
        "        df_only_2.append(0)\n",
        "        df_only_3.append(0)\n",
        "\n",
        "    elif df.crit1[i] == 1 and df.crit1[i] == df.crit2[i]:\n",
        "        df_123.append(0)\n",
        "        df_12.append(1)\n",
        "        df_23.append(0)\n",
        "        df_13.append(0)\n",
        "        df_only_1.append(0)\n",
        "        df_only_2.append(0)\n",
        "        df_only_3.append(0)\n",
        "\n",
        "    elif df.crit2[i] == 1 and df.crit3[i] == df.crit2[i]:\n",
        "        df_123.append(0)\n",
        "        df_12.append(0)\n",
        "        df_23.append(1)\n",
        "        df_13.append(0)\n",
        "        df_only_1.append(0)\n",
        "        df_only_2.append(0)\n",
        "        df_only_3.append(0)\n",
        "\n",
        "    elif df.crit1[i] == 1 and df.crit1[i] == df.crit3[i]:\n",
        "        df_123.append(0)\n",
        "        df_12.append(0)\n",
        "        df_23.append(0)\n",
        "        df_13.append(1)\n",
        "        df_only_1.append(0)\n",
        "        df_only_2.append(0)\n",
        "        df_only_3.append(0)\n",
        "\n",
        "    elif df.crit1[i] == 1:\n",
        "        df_123.append(0)\n",
        "        df_12.append(0)\n",
        "        df_23.append(0)\n",
        "        df_13.append(0)\n",
        "        df_only_1.append(1)\n",
        "        df_only_2.append(0)\n",
        "        df_only_3.append(0)\n",
        "\n",
        "    elif df.crit2[i] == 1:\n",
        "        df_123.append(0)\n",
        "        df_12.append(0)\n",
        "        df_23.append(0)\n",
        "        df_13.append(0)\n",
        "        df_only_2.append(1)\n",
        "        df_only_1.append(0)\n",
        "        df_only_3.append(0)\n",
        "\n",
        "    elif df.crit3[i] == 1:\n",
        "        df_123.append(0)\n",
        "        df_12.append(0)\n",
        "        df_23.append(0)\n",
        "        df_13.append(0)\n",
        "        df_only_3.append(1)\n",
        "        df_only_1.append(0)\n",
        "        df_only_2.append(0)\n",
        "\n",
        "df['crit123'] = df_123\n",
        "df['crit12'] = df_12\n",
        "df['crit23'] = df_23\n",
        "df['crit13'] = df_13\n",
        "df['crit1only'] = df_only_1\n",
        "df['crit2only'] = df_only_2\n",
        "df['crit3only'] = df_only_3"
      ],
      "metadata": {
        "id": "PKnxrvDTTlTw"
      },
      "execution_count": null,
      "outputs": []
    },
    {
      "cell_type": "code",
      "source": [
        "# finding the purpose of attacks in different criterias\n",
        "# criteria 1 : POLITICAL, ECONOMIC, RELIGIOUS, OR SOCIAL GOAL (CRIT1)\n",
        "# criteria 2 : INTENTION TO COERCE, INTIMIDATE OR PUBLICIZE TO LARGER AUDIENCE(S) (CRIT2)\n",
        "# criteria 3 :  OUTSIDE INTERNATIONAL HUMANITARIAN LAW (CRIT3)\n",
        "# Also 1 = Yes & 0 = No\n",
        "\n",
        "# crit123 : includes all criteria\n",
        "# crit12 : includes all criteria 1 & 2\n",
        "# crit23 : includes all criteria 2 & 3\n",
        "# crit13 : includes all criteria 1 & 3\n",
        "\n",
        "for x in df.columns[-7:]: # -7 is index of starting for new made columns\n",
        "    print(x,\" : \",  df[x].sum())"
      ],
      "metadata": {
        "colab": {
          "base_uri": "https://localhost:8080/"
        },
        "id": "q0qCY45TSiKH",
        "outputId": "23eaa16c-eab4-4e71-b591-ce49abb9d94b"
      },
      "execution_count": null,
      "outputs": [
        {
          "output_type": "stream",
          "name": "stdout",
          "text": [
            "crit123  :  155762\n",
            "crit12  :  22590\n",
            "crit23  :  2084\n",
            "crit13  :  1255\n",
            "crit1only  :  0\n",
            "crit2only  :  0\n",
            "crit3only  :  0\n"
          ]
        }
      ]
    },
    {
      "cell_type": "code",
      "source": [
        "# visualization code\n",
        "class plot:\n",
        "  def country_wise_attacks(df):\n",
        "    df.sort_values('No of attacks', ascending = False, inplace = True)\n",
        "    plt.figure(figsize = (16, 6))\n",
        "    sns.set(style = 'darkgrid')\n",
        "    sns.barplot(df.head(70), x = 'country_txt', y = 'No of attacks', color = 'purple')\n",
        "    plt.xlabel('Country', fontsize = 16)\n",
        "    plt.title('Number of attacks in each country', fontsize = 16, color = 'red')\n",
        "    plt.xticks(rotation = 90)\n",
        "\n",
        "  def attack_type(df):\n",
        "    df.plot(\n",
        "                     kind = 'pie',\n",
        "                     figsize = (16,8),\n",
        "                     autopct = '%1.1f%%',\n",
        "                     startangle = 180,\n",
        "                     shadow = True,\n",
        "                     labels = df_nattack_type['attacktype1_txt'],\n",
        "                     y = 'No of attacks'\n",
        "                    )\n",
        "    plt.ylabel(\" \")\n",
        "\n",
        "  def trend(df):\n",
        "    plt.figure(figsize = (16, 5))\n",
        "    sns.lineplot(df, x = 'iyear', y = 'No of attacks', color = 'red')\n",
        "    plt.xlabel('Country', fontsize = 16)\n",
        "    plt.title('Trend in number of attacks', fontsize = 16, color = 'red')\n",
        "    plt.ylabel('number of attacks', fontsize = 14)\n",
        "    plt.xticks(rotation = 45)\n",
        "\n",
        "  def success(df):\n",
        "    df.plot(\n",
        "                            kind = 'pie',\n",
        "                            autopct ='%1.1f%%',\n",
        "                            y = 'No of attacks',\n",
        "                            figsize = (16,6),\n",
        "                            shadow = True,\n",
        "                            startangle = 270,\n",
        "                            labels = ['Succesful attacks', 'Unsuccessful attacks']\n",
        "    )\n",
        "\n",
        "  def target(df):\n",
        "    plt.figure(figsize = (16, 5))\n",
        "    sns.barplot(df, x = 'index', y = 'Num of attacks', color = 'darkturquoise')\n",
        "    plt.xlabel('Country', fontsize = 16)\n",
        "    plt.title('Number of attacks on each target', fontsize = 16, color = 'red')\n",
        "    plt.ylabel('number of attacks', fontsize = 16)\n",
        "    plt.xticks(rotation = 45)\n",
        "\n",
        "  def hist(df):\n",
        "    plt.figure(figsize = (16,5))\n",
        "    sns.histplot(df, x = 'iyear', color = 'green')\n",
        "    plt.title('Distribution of attacks from 1970 to 2017', fontsize = 16, color = 'red')\n",
        "    plt.xlabel('YEAR', fontsize = 16)\n",
        "    plt.ylabel('Number of Attacks', fontsize = 16)\n",
        "\n",
        "  def crit():\n",
        "    y = [155762, 22590, 2084, 1255]\n",
        "    x = ['criterion 123', 'criterion 12', 'criterion 23', 'criterion 13']\n",
        "    df_crit = pd.DataFrame(zip(x, y))\n",
        "    df_crit.columns = ['criterion', 'num']\n",
        "    df_crit.plot(\n",
        "            kind = 'pie',\n",
        "            y = 'num',\n",
        "            autopct = '%1.1f%%',\n",
        "            figsize = (16, 6),\n",
        "            shadow = True,\n",
        "            startangle = 0,\n",
        "            labels = x)"
      ],
      "metadata": {
        "id": "mHpH6jaGv65-"
      },
      "execution_count": null,
      "outputs": []
    },
    {
      "cell_type": "markdown",
      "source": [
        "### What all manipulations have you done and insights you found?"
      ],
      "metadata": {
        "id": "MSa1f5Uengrz"
      }
    },
    {
      "cell_type": "markdown",
      "source": [
        "1. Total number of killed people from 1970-2017 are 411,868\n",
        "2. Total ransom amount given to terrorist is 4,282,915,348. (apprx 4.3B $)\n",
        "3. Number of attacks that were not resoluted are 179,471. Rest are resoluted.\n",
        "4. Attacks that were extended for more than 24 hours are 8239 in number.\n",
        "5. Number of people that were released after being taken hostage are 50,749. There are victim or victim groups that were taken hostage & their fate was unknown. Number of this victim/victim gropus are 3561.\n",
        "6. Number of attacks that were linked to other attacks are 25032"
      ],
      "metadata": {
        "id": "LbyXE7I1olp8"
      }
    },
    {
      "cell_type": "markdown",
      "source": [
        "## ***4. Data Vizualization, Storytelling & Experimenting with charts : Understand the relationships between variables***"
      ],
      "metadata": {
        "id": "GF8Ens_Soomf"
      }
    },
    {
      "cell_type": "markdown",
      "source": [
        "#### Chart - 1"
      ],
      "metadata": {
        "id": "0wOQAZs5pc--"
      }
    },
    {
      "cell_type": "code",
      "source": [
        "# Chart - 1 visualization code\n",
        "plot.country_wise_attacks(df_countrywise_nattacks)"
      ],
      "metadata": {
        "id": "7v_ESjsspbW7",
        "colab": {
          "base_uri": "https://localhost:8080/",
          "height": 824
        },
        "outputId": "eb06fb8d-6dc4-4f76-bcc9-67c1f20c7a8f"
      },
      "execution_count": null,
      "outputs": [
        {
          "output_type": "display_data",
          "data": {
            "text/plain": [
              "<Figure size 1600x600 with 1 Axes>"
            ],
            "image/png": "[encoded data removed]"
          },
          "metadata": {}
        }
      ]
    },
    {
      "cell_type": "markdown",
      "source": [
        "##### 1. Why did you pick the specific chart?"
      ],
      "metadata": {
        "id": "K5QZ13OEpz2H"
      }
    },
    {
      "cell_type": "markdown",
      "source": [
        "To show total attacks happened in each country"
      ],
      "metadata": {
        "id": "XESiWehPqBRc"
      }
    },
    {
      "cell_type": "markdown",
      "source": [
        "##### 2. What is/are the insight(s) found from the chart?"
      ],
      "metadata": {
        "id": "lQ7QKXXCp7Bj"
      }
    },
    {
      "cell_type": "markdown",
      "source": [
        "Third world countries have comparatively more terrorist attack than other world country."
      ],
      "metadata": {
        "id": "C_j1G7yiqdRP"
      }
    },
    {
      "cell_type": "markdown",
      "source": [
        "##### 3. Will the gained insights help creating a positive business impact?\n",
        "Are there any insights that lead to negative growth? Justify with specific reason."
      ],
      "metadata": {
        "id": "448CDAPjqfQr"
      }
    },
    {
      "cell_type": "markdown",
      "source": [
        "Answer Here"
      ],
      "metadata": {
        "id": "3cspy4FjqxJW"
      }
    },
    {
      "cell_type": "markdown",
      "source": [
        "#### Chart - 2"
      ],
      "metadata": {
        "id": "KSlN3yHqYklG"
      }
    },
    {
      "cell_type": "code",
      "source": [
        "# Chart - 2 visualization code\n",
        "plot.attack_type(df_nattack_type)"
      ],
      "metadata": {
        "id": "R4YgtaqtYklH",
        "colab": {
          "base_uri": "https://localhost:8080/",
          "height": 653
        },
        "outputId": "a985341c-46e5-49e7-9a4b-a801a9b49caa"
      },
      "execution_count": null,
      "outputs": [
        {
          "output_type": "display_data",
          "data": {
            "text/plain": [
              "<Figure size 1600x800 with 1 Axes>"
            ],
            "image/png": "[encoded data removed]"
          },
          "metadata": {}
        }
      ]
    },
    {
      "cell_type": "markdown",
      "source": [
        "##### 1. Why did you pick the specific chart?"
      ],
      "metadata": {
        "id": "t6dVpIINYklI"
      }
    },
    {
      "cell_type": "markdown",
      "source": [
        "To show % distribution of attack type"
      ],
      "metadata": {
        "id": "5aaW0BYyYklI"
      }
    },
    {
      "cell_type": "markdown",
      "source": [
        "##### 2. What is/are the insight(s) found from the chart?"
      ],
      "metadata": {
        "id": "ijmpgYnKYklI"
      }
    },
    {
      "cell_type": "markdown",
      "source": [
        "1. Bombing/Explosion is highest used attack.\n",
        "2. Armed assault is 2nd highest used & assasination is 3rd"
      ],
      "metadata": {
        "id": "PSx9atu2YklI"
      }
    },
    {
      "cell_type": "markdown",
      "source": [
        "##### 3. Will the gained insights help creating a positive business impact?\n",
        "Are there any insights that lead to negative growth? Justify with specific reason."
      ],
      "metadata": {
        "id": "-JiQyfWJYklI"
      }
    },
    {
      "cell_type": "markdown",
      "source": [
        "Answer Here"
      ],
      "metadata": {
        "id": "BcBbebzrYklV"
      }
    },
    {
      "cell_type": "markdown",
      "source": [
        "#### Chart - 3"
      ],
      "metadata": {
        "id": "EM7whBJCYoAo"
      }
    },
    {
      "cell_type": "code",
      "source": [
        "plot.trend(df_yearwise_nattacks)"
      ],
      "metadata": {
        "id": "t6GMdE67YoAp",
        "colab": {
          "base_uri": "https://localhost:8080/",
          "height": 523
        },
        "outputId": "e9b8e1d3-b233-4743-8486-db4791e49286"
      },
      "execution_count": null,
      "outputs": [
        {
          "output_type": "display_data",
          "data": {
            "text/plain": [
              "<Figure size 1600x500 with 1 Axes>"
            ],
            "image/png": "[encoded data removed]"
          },
          "metadata": {}
        }
      ]
    },
    {
      "cell_type": "markdown",
      "source": [
        "##### 1. Why did you pick the specific chart?"
      ],
      "metadata": {
        "id": "fge-S5ZAYoAp"
      }
    },
    {
      "cell_type": "markdown",
      "source": [
        "To show trend of number of attack in a year."
      ],
      "metadata": {
        "id": "5dBItgRVYoAp"
      }
    },
    {
      "cell_type": "markdown",
      "source": [
        "##### 2. What is/are the insight(s) found from the chart?"
      ],
      "metadata": {
        "id": "85gYPyotYoAp"
      }
    },
    {
      "cell_type": "markdown",
      "source": [
        "Total number of attacks in a year is increasing with time."
      ],
      "metadata": {
        "id": "4jstXR6OYoAp"
      }
    },
    {
      "cell_type": "markdown",
      "source": [
        "##### 3. Will the gained insights help creating a positive business impact?\n",
        "Are there any insights that lead to negative growth? Justify with specific reason."
      ],
      "metadata": {
        "id": "RoGjAbkUYoAp"
      }
    },
    {
      "cell_type": "markdown",
      "source": [
        "Answer Here"
      ],
      "metadata": {
        "id": "zfJ8IqMcYoAp"
      }
    },
    {
      "cell_type": "markdown",
      "source": [
        "#### Chart - 4"
      ],
      "metadata": {
        "id": "4Of9eVA-YrdM"
      }
    },
    {
      "cell_type": "code",
      "source": [
        "plot.success(df_successful_nattacks)"
      ],
      "metadata": {
        "id": "irlUoxc8YrdO",
        "colab": {
          "base_uri": "https://localhost:8080/",
          "height": 499
        },
        "outputId": "88b30012-4762-4e16-9c65-8930c1ba2b1d"
      },
      "execution_count": null,
      "outputs": [
        {
          "output_type": "display_data",
          "data": {
            "text/plain": [
              "<Figure size 1600x600 with 1 Axes>"
            ],
            "image/png": "[encoded data removed]"
          },
          "metadata": {}
        }
      ]
    },
    {
      "cell_type": "markdown",
      "source": [
        "##### 1. Why did you pick the specific chart?"
      ],
      "metadata": {
        "id": "iky9q4vBYrdO"
      }
    },
    {
      "cell_type": "markdown",
      "source": [
        "To show % distribution of successful & unsuccessful attacks."
      ],
      "metadata": {
        "id": "aJRCwT6DYrdO"
      }
    },
    {
      "cell_type": "markdown",
      "source": [
        "##### 2. What is/are the insight(s) found from the chart?"
      ],
      "metadata": {
        "id": "F6T5p64dYrdO"
      }
    },
    {
      "cell_type": "markdown",
      "source": [
        "Chance of a successful attack is 89%"
      ],
      "metadata": {
        "id": "Xx8WAJvtYrdO"
      }
    },
    {
      "cell_type": "markdown",
      "source": [
        "##### 3. Will the gained insights help creating a positive business impact?\n",
        "Are there any insights that lead to negative growth? Justify with specific reason."
      ],
      "metadata": {
        "id": "y-Ehk30pYrdP"
      }
    },
    {
      "cell_type": "markdown",
      "source": [
        "Answer Here"
      ],
      "metadata": {
        "id": "jLNxxz7MYrdP"
      }
    },
    {
      "cell_type": "markdown",
      "source": [
        "#### Chart - 5"
      ],
      "metadata": {
        "id": "bamQiAODYuh1"
      }
    },
    {
      "cell_type": "code",
      "source": [
        "plot.target(df_target_props)"
      ],
      "metadata": {
        "id": "TIJwrbroYuh3",
        "colab": {
          "base_uri": "https://localhost:8080/",
          "height": 650
        },
        "outputId": "8e986359-138c-4db8-983a-c51af7242389"
      },
      "execution_count": null,
      "outputs": [
        {
          "output_type": "display_data",
          "data": {
            "text/plain": [
              "<Figure size 1600x500 with 1 Axes>"
            ],
            "image/png": "[encoded data removed]"
          },
          "metadata": {}
        }
      ]
    },
    {
      "cell_type": "markdown",
      "source": [
        "##### 1. Why did you pick the specific chart?"
      ],
      "metadata": {
        "id": "QHF8YVU7Yuh3"
      }
    },
    {
      "cell_type": "markdown",
      "source": [
        "To show number of attacks in each category."
      ],
      "metadata": {
        "id": "dcxuIMRPYuh3"
      }
    },
    {
      "cell_type": "markdown",
      "source": [
        "##### 2. What is/are the insight(s) found from the chart?"
      ],
      "metadata": {
        "id": "GwzvFGzlYuh3"
      }
    },
    {
      "cell_type": "markdown",
      "source": [
        "1. Private citizens & property are most targeted by terrorists.\n",
        "2. Military-Police-Goverment-Business this are second most attacked properties.\n",
        "3. Attacks on remaining properies are very less compared to above 5."
      ],
      "metadata": {
        "id": "uyqkiB8YYuh3"
      }
    },
    {
      "cell_type": "markdown",
      "source": [
        "##### 3. Will the gained insights help creating a positive business impact?\n",
        "Are there any insights that lead to negative growth? Justify with specific reason."
      ],
      "metadata": {
        "id": "qYpmQ266Yuh3"
      }
    },
    {
      "cell_type": "markdown",
      "source": [
        "The most targeted properties should be provided with more security"
      ],
      "metadata": {
        "id": "_WtzZ_hCYuh4"
      }
    },
    {
      "cell_type": "markdown",
      "source": [
        "#### Chart - 6"
      ],
      "metadata": {
        "id": "OH-pJp9IphqM"
      }
    },
    {
      "cell_type": "code",
      "source": [
        "# Chart - 6 visualization code\n",
        "plot.hist(df)"
      ],
      "metadata": {
        "id": "kuRf4wtuphqN",
        "colab": {
          "base_uri": "https://localhost:8080/",
          "height": 500
        },
        "outputId": "d9336ad5-49c7-49ff-f04c-90f5915153df"
      },
      "execution_count": null,
      "outputs": [
        {
          "output_type": "display_data",
          "data": {
            "text/plain": [
              "<Figure size 1600x500 with 1 Axes>"
            ],
            "image/png": "[encoded data removed]"
          },
          "metadata": {}
        }
      ]
    },
    {
      "cell_type": "markdown",
      "source": [
        "##### 1. Why did you pick the specific chart?"
      ],
      "metadata": {
        "id": "bbFf2-_FphqN"
      }
    },
    {
      "cell_type": "markdown",
      "source": [
        "To show distribution of attack yearwise."
      ],
      "metadata": {
        "id": "loh7H2nzphqN"
      }
    },
    {
      "cell_type": "markdown",
      "source": [
        "##### 2. What is/are the insight(s) found from the chart?"
      ],
      "metadata": {
        "id": "_ouA3fa0phqN"
      }
    },
    {
      "cell_type": "markdown",
      "source": [
        "The data is positively skewed."
      ],
      "metadata": {
        "id": "VECbqPI7phqN"
      }
    },
    {
      "cell_type": "markdown",
      "source": [
        "##### 3. Will the gained insights help creating a positive business impact?\n",
        "Are there any insights that lead to negative growth? Justify with specific reason."
      ],
      "metadata": {
        "id": "Seke61FWphqN"
      }
    },
    {
      "cell_type": "markdown",
      "source": [
        "Answer Here"
      ],
      "metadata": {
        "id": "DW4_bGpfphqN"
      }
    },
    {
      "cell_type": "markdown",
      "source": [
        "#### Chart - 7"
      ],
      "metadata": {
        "id": "PIIx-8_IphqN"
      }
    },
    {
      "cell_type": "code",
      "source": [
        "plot.crit()"
      ],
      "metadata": {
        "id": "lqAIGUfyphqO",
        "colab": {
          "base_uri": "https://localhost:8080/",
          "height": 499
        },
        "outputId": "5052203c-98f6-4b42-9010-636cea3c70b1"
      },
      "execution_count": null,
      "outputs": [
        {
          "output_type": "display_data",
          "data": {
            "text/plain": [
              "<Figure size 1600x600 with 1 Axes>"
            ],
            "image/png": "[encoded data removed]"
          },
          "metadata": {}
        }
      ]
    },
    {
      "cell_type": "markdown",
      "source": [
        "##### 1. Why did you pick the specific chart?"
      ],
      "metadata": {
        "id": "t27r6nlMphqO"
      }
    },
    {
      "cell_type": "markdown",
      "source": [
        "To show criterion distribution in %."
      ],
      "metadata": {
        "id": "iv6ro40sphqO"
      }
    },
    {
      "cell_type": "markdown",
      "source": [
        "##### 2. What is/are the insight(s) found from the chart?"
      ],
      "metadata": {
        "id": "r2jJGEOYphqO"
      }
    },
    {
      "cell_type": "markdown",
      "source": [
        "Criterion 123 : which include all criteria given in dataset have highest % of values 85.7%\n",
        "criterion 12 : this criterion is 2nd highest % & is 12.4%\n",
        "Other criterions are very less.\n"
      ],
      "metadata": {
        "id": "Po6ZPi4hphqO"
      }
    },
    {
      "cell_type": "markdown",
      "source": [
        "##### 3. Will the gained insights help creating a positive business impact?\n",
        "Are there any insights that lead to negative growth? Justify with specific reason."
      ],
      "metadata": {
        "id": "b0JNsNcRphqO"
      }
    },
    {
      "cell_type": "markdown",
      "source": [
        "Answer Here"
      ],
      "metadata": {
        "id": "xvSq8iUTphqO"
      }
    },
    {
      "cell_type": "markdown",
      "source": [
        "#### Chart - 8"
      ],
      "metadata": {
        "id": "BZR9WyysphqO"
      }
    },
    {
      "cell_type": "code",
      "source": [
        "# Chart - 8 visualization code"
      ],
      "metadata": {
        "id": "TdPTWpAVphqO"
      },
      "execution_count": null,
      "outputs": []
    },
    {
      "cell_type": "markdown",
      "source": [
        "##### 1. Why did you pick the specific chart?"
      ],
      "metadata": {
        "id": "jj7wYXLtphqO"
      }
    },
    {
      "cell_type": "markdown",
      "source": [
        "Answer Here."
      ],
      "metadata": {
        "id": "Ob8u6rCTphqO"
      }
    },
    {
      "cell_type": "markdown",
      "source": [
        "##### 2. What is/are the insight(s) found from the chart?"
      ],
      "metadata": {
        "id": "eZrbJ2SmphqO"
      }
    },
    {
      "cell_type": "markdown",
      "source": [
        "Answer Here"
      ],
      "metadata": {
        "id": "mZtgC_hjphqO"
      }
    },
    {
      "cell_type": "markdown",
      "source": [
        "##### 3. Will the gained insights help creating a positive business impact?\n",
        "Are there any insights that lead to negative growth? Justify with specific reason."
      ],
      "metadata": {
        "id": "rFu4xreNphqO"
      }
    },
    {
      "cell_type": "markdown",
      "source": [
        "Answer Here"
      ],
      "metadata": {
        "id": "ey_0qi68phqO"
      }
    },
    {
      "cell_type": "markdown",
      "source": [
        "#### Chart - 9"
      ],
      "metadata": {
        "id": "YJ55k-q6phqO"
      }
    },
    {
      "cell_type": "code",
      "source": [
        "# Chart - 9 visualization code"
      ],
      "metadata": {
        "id": "B2aS4O1ophqO"
      },
      "execution_count": null,
      "outputs": []
    },
    {
      "cell_type": "markdown",
      "source": [
        "##### 1. Why did you pick the specific chart?"
      ],
      "metadata": {
        "id": "gCFgpxoyphqP"
      }
    },
    {
      "cell_type": "markdown",
      "source": [
        "Answer Here."
      ],
      "metadata": {
        "id": "TVxDimi2phqP"
      }
    },
    {
      "cell_type": "markdown",
      "source": [
        "##### 2. What is/are the insight(s) found from the chart?"
      ],
      "metadata": {
        "id": "OVtJsKN_phqQ"
      }
    },
    {
      "cell_type": "markdown",
      "source": [
        "Answer Here"
      ],
      "metadata": {
        "id": "ngGi97qjphqQ"
      }
    },
    {
      "cell_type": "markdown",
      "source": [
        "##### 3. Will the gained insights help creating a positive business impact?\n",
        "Are there any insights that lead to negative growth? Justify with specific reason."
      ],
      "metadata": {
        "id": "lssrdh5qphqQ"
      }
    },
    {
      "cell_type": "markdown",
      "source": [
        "Answer Here"
      ],
      "metadata": {
        "id": "tBpY5ekJphqQ"
      }
    },
    {
      "cell_type": "markdown",
      "source": [
        "#### Chart - 10"
      ],
      "metadata": {
        "id": "U2RJ9gkRphqQ"
      }
    },
    {
      "cell_type": "code",
      "source": [
        "# Chart - 10 visualization code"
      ],
      "metadata": {
        "id": "GM7a4YP4phqQ"
      },
      "execution_count": null,
      "outputs": []
    },
    {
      "cell_type": "markdown",
      "source": [
        "##### 1. Why did you pick the specific chart?"
      ],
      "metadata": {
        "id": "1M8mcRywphqQ"
      }
    },
    {
      "cell_type": "markdown",
      "source": [
        "Answer Here."
      ],
      "metadata": {
        "id": "8agQvks0phqQ"
      }
    },
    {
      "cell_type": "markdown",
      "source": [
        "##### 2. What is/are the insight(s) found from the chart?"
      ],
      "metadata": {
        "id": "tgIPom80phqQ"
      }
    },
    {
      "cell_type": "markdown",
      "source": [
        "Answer Here"
      ],
      "metadata": {
        "id": "Qp13pnNzphqQ"
      }
    },
    {
      "cell_type": "markdown",
      "source": [
        "##### 3. Will the gained insights help creating a positive business impact?\n",
        "Are there any insights that lead to negative growth? Justify with specific reason."
      ],
      "metadata": {
        "id": "JMzcOPDDphqR"
      }
    },
    {
      "cell_type": "markdown",
      "source": [
        "Answer Here"
      ],
      "metadata": {
        "id": "R4Ka1PC2phqR"
      }
    },
    {
      "cell_type": "markdown",
      "source": [
        "#### Chart - 11"
      ],
      "metadata": {
        "id": "x-EpHcCOp1ci"
      }
    },
    {
      "cell_type": "code",
      "source": [
        "# Chart - 11 visualization code"
      ],
      "metadata": {
        "id": "mAQTIvtqp1cj"
      },
      "execution_count": null,
      "outputs": []
    },
    {
      "cell_type": "markdown",
      "source": [
        "##### 1. Why did you pick the specific chart?"
      ],
      "metadata": {
        "id": "X_VqEhTip1ck"
      }
    },
    {
      "cell_type": "markdown",
      "source": [
        "Answer Here."
      ],
      "metadata": {
        "id": "-vsMzt_np1ck"
      }
    },
    {
      "cell_type": "markdown",
      "source": [
        "##### 2. What is/are the insight(s) found from the chart?"
      ],
      "metadata": {
        "id": "8zGJKyg5p1ck"
      }
    },
    {
      "cell_type": "markdown",
      "source": [
        "Answer Here"
      ],
      "metadata": {
        "id": "ZYdMsrqVp1ck"
      }
    },
    {
      "cell_type": "markdown",
      "source": [
        "##### 3. Will the gained insights help creating a positive business impact?\n",
        "Are there any insights that lead to negative growth? Justify with specific reason."
      ],
      "metadata": {
        "id": "PVzmfK_Ep1ck"
      }
    },
    {
      "cell_type": "markdown",
      "source": [
        "Answer Here"
      ],
      "metadata": {
        "id": "druuKYZpp1ck"
      }
    },
    {
      "cell_type": "markdown",
      "source": [
        "#### Chart - 12"
      ],
      "metadata": {
        "id": "n3dbpmDWp1ck"
      }
    },
    {
      "cell_type": "code",
      "source": [
        "# Chart - 12 visualization code"
      ],
      "metadata": {
        "id": "bwevp1tKp1ck"
      },
      "execution_count": null,
      "outputs": []
    },
    {
      "cell_type": "markdown",
      "source": [
        "##### 1. Why did you pick the specific chart?"
      ],
      "metadata": {
        "id": "ylSl6qgtp1ck"
      }
    },
    {
      "cell_type": "markdown",
      "source": [
        "Answer Here."
      ],
      "metadata": {
        "id": "m2xqNkiQp1ck"
      }
    },
    {
      "cell_type": "markdown",
      "source": [
        "##### 2. What is/are the insight(s) found from the chart?"
      ],
      "metadata": {
        "id": "ZWILFDl5p1ck"
      }
    },
    {
      "cell_type": "markdown",
      "source": [
        "Answer Here"
      ],
      "metadata": {
        "id": "x-lUsV2mp1ck"
      }
    },
    {
      "cell_type": "markdown",
      "source": [
        "##### 3. Will the gained insights help creating a positive business impact?\n",
        "Are there any insights that lead to negative growth? Justify with specific reason."
      ],
      "metadata": {
        "id": "M7G43BXep1ck"
      }
    },
    {
      "cell_type": "markdown",
      "source": [
        "Answer Here"
      ],
      "metadata": {
        "id": "5wwDJXsLp1cl"
      }
    },
    {
      "cell_type": "markdown",
      "source": [
        "#### Chart - 13"
      ],
      "metadata": {
        "id": "Ag9LCva-p1cl"
      }
    },
    {
      "cell_type": "code",
      "source": [
        "# Chart - 13 visualization code"
      ],
      "metadata": {
        "id": "EUfxeq9-p1cl"
      },
      "execution_count": null,
      "outputs": []
    },
    {
      "cell_type": "markdown",
      "source": [
        "##### 1. Why did you pick the specific chart?"
      ],
      "metadata": {
        "id": "E6MkPsBcp1cl"
      }
    },
    {
      "cell_type": "markdown",
      "source": [
        "Answer Here."
      ],
      "metadata": {
        "id": "V22bRsFWp1cl"
      }
    },
    {
      "cell_type": "markdown",
      "source": [
        "##### 2. What is/are the insight(s) found from the chart?"
      ],
      "metadata": {
        "id": "2cELzS2fp1cl"
      }
    },
    {
      "cell_type": "markdown",
      "source": [
        "Answer Here"
      ],
      "metadata": {
        "id": "ozQPc2_Ip1cl"
      }
    },
    {
      "cell_type": "markdown",
      "source": [
        "##### 3. Will the gained insights help creating a positive business impact?\n",
        "Are there any insights that lead to negative growth? Justify with specific reason."
      ],
      "metadata": {
        "id": "3MPXvC8up1cl"
      }
    },
    {
      "cell_type": "markdown",
      "source": [
        "Answer Here"
      ],
      "metadata": {
        "id": "GL8l1tdLp1cl"
      }
    },
    {
      "cell_type": "markdown",
      "source": [
        "#### Chart - 14 - Correlation Heatmap"
      ],
      "metadata": {
        "id": "NC_X3p0fY2L0"
      }
    },
    {
      "cell_type": "code",
      "source": [
        "# Correlation Heatmap visualization code"
      ],
      "metadata": {
        "id": "xyC9zolEZNRQ"
      },
      "execution_count": null,
      "outputs": []
    },
    {
      "cell_type": "markdown",
      "source": [
        "##### 1. Why did you pick the specific chart?"
      ],
      "metadata": {
        "id": "UV0SzAkaZNRQ"
      }
    },
    {
      "cell_type": "markdown",
      "source": [
        "Answer Here."
      ],
      "metadata": {
        "id": "DVPuT8LYZNRQ"
      }
    },
    {
      "cell_type": "markdown",
      "source": [
        "##### 2. What is/are the insight(s) found from the chart?"
      ],
      "metadata": {
        "id": "YPEH6qLeZNRQ"
      }
    },
    {
      "cell_type": "markdown",
      "source": [
        "Answer Here"
      ],
      "metadata": {
        "id": "bfSqtnDqZNRR"
      }
    },
    {
      "cell_type": "markdown",
      "source": [
        "#### Chart - 15 - Pair Plot"
      ],
      "metadata": {
        "id": "q29F0dvdveiT"
      }
    },
    {
      "cell_type": "code",
      "source": [
        "# Pair Plot visualization code"
      ],
      "metadata": {
        "id": "o58-TEIhveiU"
      },
      "execution_count": null,
      "outputs": []
    },
    {
      "cell_type": "markdown",
      "source": [
        "##### 1. Why did you pick the specific chart?"
      ],
      "metadata": {
        "id": "EXh0U9oCveiU"
      }
    },
    {
      "cell_type": "markdown",
      "source": [
        "Answer Here."
      ],
      "metadata": {
        "id": "eMmPjTByveiU"
      }
    },
    {
      "cell_type": "markdown",
      "source": [
        "##### 2. What is/are the insight(s) found from the chart?"
      ],
      "metadata": {
        "id": "22aHeOlLveiV"
      }
    },
    {
      "cell_type": "markdown",
      "source": [
        "Answer Here"
      ],
      "metadata": {
        "id": "uPQ8RGwHveiV"
      }
    },
    {
      "cell_type": "markdown",
      "source": [
        "## **5. Solution to Business Objective**"
      ],
      "metadata": {
        "id": "JcMwzZxoAimU"
      }
    },
    {
      "cell_type": "markdown",
      "source": [
        "#### What do you suggest the client to achieve Business Objective ?\n",
        "Explain Briefly."
      ],
      "metadata": {
        "id": "8G2x9gOozGDZ"
      }
    },
    {
      "cell_type": "markdown",
      "source": [
        "Answer Here."
      ],
      "metadata": {
        "id": "pASKb0qOza21"
      }
    },
    {
      "cell_type": "markdown",
      "source": [
        "# **Conclusion**"
      ],
      "metadata": {
        "id": "gCX9965dhzqZ"
      }
    },
    {
      "cell_type": "markdown",
      "source": [
        "1. Third world countries mostly targeted for terrorist attacks.\n",
        "2. Bombing, Armed assault, assasination are most used attacks.\n",
        "3. Number of terrorist attacks are increased with time.\n",
        "4. Every attempted terrorist attack have a succession chance of 89%. Which is terrifying.\n",
        "5. Citizens & Private properties, police, army, goverment these are targeted most.\n",
        "6. 85.7% attacks comes in all criterion. 12% attacks come in criteria 1 & 2.<br>\n",
        "(PS. :<br>\n",
        "criteria 1 : POLITICAL, ECONOMIC, RELIGIOUS, OR SOCIAL GOAL (CRIT1)<br>\n",
        "criteria 2 : INTENTION TO COERCE, INTIMIDATE OR PUBLICIZE TO LARGER AUDIENCE(S) (CRIT2)<br>\n",
        "criteria 3 :  OUTSIDE INTERNATIONAL HUMANITARIAN LAW (CRIT3))"
      ],
      "metadata": {
        "id": "Fjb1IsQkh3yE"
      }
    },
    {
      "cell_type": "markdown",
      "source": [
        "### ***Hurrah! You have successfully completed your EDA Capstone Project !!!***"
      ],
      "metadata": {
        "id": "gIfDvo9L0UH2"
      }
    }
  ]
}